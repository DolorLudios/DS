{
  "cells": [
    {
      "cell_type": "markdown",
      "metadata": {
        "id": "jr9FlxVBnNTj"
      },
      "source": [
        "# <a href=\"https://miptstats.github.io/courses/ad_mipt.html\">Phystech@DataScience</a>\n",
        "## Домашнее задание 5\n",
        "\n",
        "**Правила, <font color=\"red\">прочитайте внимательно</font>:**\n",
        "\n",
        "* Выполненную работу нужно отправить телеграм-боту `@miptstats_pds_bot`. Для начала работы с ботом каждый раз отправляйте `/start`. **Работы, присланные иным способом, не принимаются.**\n",
        "* Дедлайн см. в боте. После дедлайна работы не принимаются кроме случаев наличия уважительной причины.\n",
        "* Прислать нужно ноутбук в формате `ipynb`.\n",
        "* Выполнять задание необходимо полностью самостоятельно. **При обнаружении списывания все участники списывания будут сдавать устный зачет.**\n",
        "* Решения, размещенные на каких-либо интернет-ресурсах, не принимаются. Кроме того, публикация решения в открытом доступе может быть приравнена к предоставлении возможности списать.\n",
        "* Для выполнения задания используйте этот ноутбук в качестве основы, ничего не удаляя из него. Можно добавлять необходимое количество ячеек.\n",
        "* Комментарии к решению пишите в markdown-ячейках.\n",
        "* Выполнение задания (ход решения, выводы и пр.) должно быть осуществлено на русском языке.\n",
        "* Если код будет не понятен проверяющему, оценка может быть снижена.\n",
        "* Никакой код из данного задания при проверке запускаться не будет. *Если код студента не выполнен, недописан и т.д., то он не оценивается.*\n",
        "* **Код из рассказанных на занятиях ноутбуков можно использовать без ограничений.**\n",
        "\n",
        "**Правила оформления теоретических задач:**\n",
        "\n",
        "* Решения необходимо прислать одним из следующих способов:\n",
        "  * фотографией в правильной ориентации, где все четко видно, а почерк разборчив,\n",
        "    * отправив ее как файл боту вместе с ноутбуком *или*\n",
        "    * вставив ее в ноутбук посредством `Edit -> Insert Image` (<font color=\"red\">фото, вставленные ссылкой, не принимаются</font>);\n",
        "  * в виде $\\LaTeX$ в markdown-ячейках.\n",
        "* Решения не проверяются, если какое-то требование не выполнено. Особенно внимательно все проверьте в случае выбора второго пункта (вставки фото в ноутбук). <font color=\"red\"><b>Неправильно вставленные фотографии могут не передаться при отправке.</b></font> Для проверки попробуйте переместить `ipynb` в другую папку и открыть его там.\n",
        "* В решениях поясняйте, чем вы пользуетесь, хотя бы кратко. Например, если пользуетесь независимостью, то достаточно подписи вида \"*X и Y незав.*\"\n",
        "* Решение, в котором есть только ответ, и отсутствуют вычисления, оценивается в 0 баллов.\n",
        "\n",
        "**Баллы за задание:**\n",
        "\n",
        "<b><font color=\"blue\">Легкая часть</font></b> (достаточно на \"хор\"):\n",
        "* Задача 1 &mdash; 20 баллов\n",
        "* Задача 2 &mdash; 15 баллов\n",
        "* Задача 3 &mdash;  20 баллов\n",
        "* Задача 4 &mdash;  30 баллов\n",
        "\n",
        "<b><font color=\"orange\">Сложная часть</font></b> (необходимо на \"отл\"):\n",
        "* Задача 5 &mdash; 25 баллов\n",
        "* Задача 6 &mdash;  40 баллов\n",
        "\n",
        "-----"
      ]
    },
    {
      "cell_type": "code",
      "execution_count": null,
      "metadata": {
        "id": "DgI6EJ3FnNTl"
      },
      "outputs": [],
      "source": [
        "# Bot check\n",
        "\n",
        "# HW_ID: phds_hw5\n",
        "# Бот проверит этот ID и предупредит, если случайно сдать что-то не то.\n",
        "\n",
        "# Status: not final\n",
        "# Перед отправкой в финальном решении удали \"not\" в строчке выше.\n",
        "# Так бот проверит, что ты отправляешь финальную версию, а не промежуточную.\n",
        "# Никакие значения в этой ячейке не влияют на факт сдачи работы."
      ]
    },
    {
      "cell_type": "code",
      "execution_count": null,
      "metadata": {
        "ExecuteTime": {
          "end_time": "2023-03-20T19:12:45.320286Z",
          "start_time": "2023-03-20T19:12:43.619275Z"
        },
        "id": "PZz3QM6KqEEm"
      },
      "outputs": [],
      "source": [
        "import pandas as pd\n",
        "import numpy as np\n",
        "import scipy.stats as sps\n",
        "import matplotlib.pyplot as plt\n",
        "import seaborn as sns\n",
        "\n",
        "sns.set_style(\"whitegrid\")"
      ]
    },
    {
      "cell_type": "markdown",
      "metadata": {
        "id": "XQDu3lY5nNTn"
      },
      "source": [
        "### <b><i><font color=\"blue\">Легкая часть</font></i></b>\n",
        "\n",
        "### Задача 1.\n",
        "\n",
        "**1.** Найдите оценку параметра $\\theta$ методом максимального правдоподобия по выборке размера $n$ из распределения $\\mathcal{N}(a,\\sigma^2)$ для трех различных случаев\n",
        "- $\\theta = (a, \\sigma^2)$;\n",
        "- $\\theta = \\sigma^2$, причем $a$ известно;\n",
        "- $\\theta = a$, причем $\\sigma^2$ известно.\n",
        "\n",
        "Для последнего случая посчитайте асимптотическую дисперсию оценки по теореме из лекции.\n",
        "\n",
        "**2.** Найдите оценку параметра $\\theta$ методом максимального правдоподобия по выборке размера $n$ из распределения $\\mathrm{Pois}(\\theta)$. Посчитайте асимптотическую дисперсию по теореме из лекции, если оценка является асимптотически нормальной."
      ]
    },
    {
      "cell_type": "markdown",
      "metadata": {
        "id": "4CWbBoxLnNTn"
      },
      "source": [
        "---\n",
        "### Задача 2.\n",
        "Пусть $X_1,...,X_n$ &mdash;  выборка из категориального распределения, то есть $\\mathsf{P}_\\theta(X_1 = j) = \\theta_j$ для $j \\in \\{1, ..., k\\}$, причем $\\theta = (\\theta_1, ..., \\theta_k), \\theta_j \\geqslant 0$ и $\\theta_1 + ... + \\theta_k = 1$. Найдите оценку максимального правдоподобия параметра $\\theta$ и проверьте ее на состоятельность."
      ]
    },
    {
      "cell_type": "markdown",
      "metadata": {
        "id": "79RYJExflty3"
      },
      "source": [
        "---\n",
        "### Задача 3."
      ]
    },
    {
      "cell_type": "markdown",
      "metadata": {
        "id": "nDoqkHCHnNTn"
      },
      "source": [
        "\n",
        "**Профиль Физика**\n",
        "\n",
        "Скачайте <a target=\"_blank\" href=\"https://www.kaggle.com/datasets/fedesoriano/cern-electron-collision-data\">данные</a> столкновениях частиц и оставьте следующие признаки:\n",
        "* `E1`, `E2` &mdash; полная энергия электронов (ГэВ);\n",
        "* `M` &mdash; инвариантная масса двух электронов (ГэВ).\n",
        "\n",
        "**Профиль Биология**\n",
        "\n",
        "Скачайте <a target=\"_blank\" href=\"https://www.kaggle.com/datasets/ruslankl/mice-protein-expression\">данные</a> экспрессии белков у белых мышей и оставьте следующие белки для анализа:\n",
        "* `ITSN1_N`\n",
        "* `DYRK1A_N`\n",
        "* `ELK_N`\n",
        "\n",
        "**Профиль Химия**\n",
        "\n",
        "Выберите любой вариант выше.\n",
        "\n",
        "---\n",
        "\n",
        "\n",
        "**1.** Постройте для каждого из признаков гистограммы. Что можно сказать о характере распределения?\n"
      ]
    },
    {
      "cell_type": "code",
      "source": [
        "from google.colab import files\n",
        "uploaded = files.upload()"
      ],
      "metadata": {
        "colab": {
          "base_uri": "https://localhost:8080/",
          "height": 73
        },
        "id": "uRx3sehpoAAB",
        "outputId": "4017e535-dcfa-451b-ad3c-0fb42a37d7a4"
      },
      "execution_count": null,
      "outputs": [
        {
          "output_type": "display_data",
          "data": {
            "text/plain": [
              "<IPython.core.display.HTML object>"
            ],
            "text/html": [
              "\n",
              "     <input type=\"file\" id=\"files-e8645f06-e8b8-4172-8f29-de3204ea01dc\" name=\"files[]\" multiple disabled\n",
              "        style=\"border:none\" />\n",
              "     <output id=\"result-e8645f06-e8b8-4172-8f29-de3204ea01dc\">\n",
              "      Upload widget is only available when the cell has been executed in the\n",
              "      current browser session. Please rerun this cell to enable.\n",
              "      </output>\n",
              "      <script>// Copyright 2017 Google LLC\n",
              "//\n",
              "// Licensed under the Apache License, Version 2.0 (the \"License\");\n",
              "// you may not use this file except in compliance with the License.\n",
              "// You may obtain a copy of the License at\n",
              "//\n",
              "//      http://www.apache.org/licenses/LICENSE-2.0\n",
              "//\n",
              "// Unless required by applicable law or agreed to in writing, software\n",
              "// distributed under the License is distributed on an \"AS IS\" BASIS,\n",
              "// WITHOUT WARRANTIES OR CONDITIONS OF ANY KIND, either express or implied.\n",
              "// See the License for the specific language governing permissions and\n",
              "// limitations under the License.\n",
              "\n",
              "/**\n",
              " * @fileoverview Helpers for google.colab Python module.\n",
              " */\n",
              "(function(scope) {\n",
              "function span(text, styleAttributes = {}) {\n",
              "  const element = document.createElement('span');\n",
              "  element.textContent = text;\n",
              "  for (const key of Object.keys(styleAttributes)) {\n",
              "    element.style[key] = styleAttributes[key];\n",
              "  }\n",
              "  return element;\n",
              "}\n",
              "\n",
              "// Max number of bytes which will be uploaded at a time.\n",
              "const MAX_PAYLOAD_SIZE = 100 * 1024;\n",
              "\n",
              "function _uploadFiles(inputId, outputId) {\n",
              "  const steps = uploadFilesStep(inputId, outputId);\n",
              "  const outputElement = document.getElementById(outputId);\n",
              "  // Cache steps on the outputElement to make it available for the next call\n",
              "  // to uploadFilesContinue from Python.\n",
              "  outputElement.steps = steps;\n",
              "\n",
              "  return _uploadFilesContinue(outputId);\n",
              "}\n",
              "\n",
              "// This is roughly an async generator (not supported in the browser yet),\n",
              "// where there are multiple asynchronous steps and the Python side is going\n",
              "// to poll for completion of each step.\n",
              "// This uses a Promise to block the python side on completion of each step,\n",
              "// then passes the result of the previous step as the input to the next step.\n",
              "function _uploadFilesContinue(outputId) {\n",
              "  const outputElement = document.getElementById(outputId);\n",
              "  const steps = outputElement.steps;\n",
              "\n",
              "  const next = steps.next(outputElement.lastPromiseValue);\n",
              "  return Promise.resolve(next.value.promise).then((value) => {\n",
              "    // Cache the last promise value to make it available to the next\n",
              "    // step of the generator.\n",
              "    outputElement.lastPromiseValue = value;\n",
              "    return next.value.response;\n",
              "  });\n",
              "}\n",
              "\n",
              "/**\n",
              " * Generator function which is called between each async step of the upload\n",
              " * process.\n",
              " * @param {string} inputId Element ID of the input file picker element.\n",
              " * @param {string} outputId Element ID of the output display.\n",
              " * @return {!Iterable<!Object>} Iterable of next steps.\n",
              " */\n",
              "function* uploadFilesStep(inputId, outputId) {\n",
              "  const inputElement = document.getElementById(inputId);\n",
              "  inputElement.disabled = false;\n",
              "\n",
              "  const outputElement = document.getElementById(outputId);\n",
              "  outputElement.innerHTML = '';\n",
              "\n",
              "  const pickedPromise = new Promise((resolve) => {\n",
              "    inputElement.addEventListener('change', (e) => {\n",
              "      resolve(e.target.files);\n",
              "    });\n",
              "  });\n",
              "\n",
              "  const cancel = document.createElement('button');\n",
              "  inputElement.parentElement.appendChild(cancel);\n",
              "  cancel.textContent = 'Cancel upload';\n",
              "  const cancelPromise = new Promise((resolve) => {\n",
              "    cancel.onclick = () => {\n",
              "      resolve(null);\n",
              "    };\n",
              "  });\n",
              "\n",
              "  // Wait for the user to pick the files.\n",
              "  const files = yield {\n",
              "    promise: Promise.race([pickedPromise, cancelPromise]),\n",
              "    response: {\n",
              "      action: 'starting',\n",
              "    }\n",
              "  };\n",
              "\n",
              "  cancel.remove();\n",
              "\n",
              "  // Disable the input element since further picks are not allowed.\n",
              "  inputElement.disabled = true;\n",
              "\n",
              "  if (!files) {\n",
              "    return {\n",
              "      response: {\n",
              "        action: 'complete',\n",
              "      }\n",
              "    };\n",
              "  }\n",
              "\n",
              "  for (const file of files) {\n",
              "    const li = document.createElement('li');\n",
              "    li.append(span(file.name, {fontWeight: 'bold'}));\n",
              "    li.append(span(\n",
              "        `(${file.type || 'n/a'}) - ${file.size} bytes, ` +\n",
              "        `last modified: ${\n",
              "            file.lastModifiedDate ? file.lastModifiedDate.toLocaleDateString() :\n",
              "                                    'n/a'} - `));\n",
              "    const percent = span('0% done');\n",
              "    li.appendChild(percent);\n",
              "\n",
              "    outputElement.appendChild(li);\n",
              "\n",
              "    const fileDataPromise = new Promise((resolve) => {\n",
              "      const reader = new FileReader();\n",
              "      reader.onload = (e) => {\n",
              "        resolve(e.target.result);\n",
              "      };\n",
              "      reader.readAsArrayBuffer(file);\n",
              "    });\n",
              "    // Wait for the data to be ready.\n",
              "    let fileData = yield {\n",
              "      promise: fileDataPromise,\n",
              "      response: {\n",
              "        action: 'continue',\n",
              "      }\n",
              "    };\n",
              "\n",
              "    // Use a chunked sending to avoid message size limits. See b/62115660.\n",
              "    let position = 0;\n",
              "    do {\n",
              "      const length = Math.min(fileData.byteLength - position, MAX_PAYLOAD_SIZE);\n",
              "      const chunk = new Uint8Array(fileData, position, length);\n",
              "      position += length;\n",
              "\n",
              "      const base64 = btoa(String.fromCharCode.apply(null, chunk));\n",
              "      yield {\n",
              "        response: {\n",
              "          action: 'append',\n",
              "          file: file.name,\n",
              "          data: base64,\n",
              "        },\n",
              "      };\n",
              "\n",
              "      let percentDone = fileData.byteLength === 0 ?\n",
              "          100 :\n",
              "          Math.round((position / fileData.byteLength) * 100);\n",
              "      percent.textContent = `${percentDone}% done`;\n",
              "\n",
              "    } while (position < fileData.byteLength);\n",
              "  }\n",
              "\n",
              "  // All done.\n",
              "  yield {\n",
              "    response: {\n",
              "      action: 'complete',\n",
              "    }\n",
              "  };\n",
              "}\n",
              "\n",
              "scope.google = scope.google || {};\n",
              "scope.google.colab = scope.google.colab || {};\n",
              "scope.google.colab._files = {\n",
              "  _uploadFiles,\n",
              "  _uploadFilesContinue,\n",
              "};\n",
              "})(self);\n",
              "</script> "
            ]
          },
          "metadata": {}
        },
        {
          "output_type": "stream",
          "name": "stdout",
          "text": [
            "Saving dielectron.csv to dielectron.csv\n"
          ]
        }
      ]
    },
    {
      "cell_type": "code",
      "execution_count": null,
      "metadata": {
        "colab": {
          "base_uri": "https://localhost:8080/"
        },
        "id": "uzof4r1dnNTo",
        "outputId": "04059b7d-7fd3-4b70-a5d9-64ecbc622523"
      },
      "outputs": [
        {
          "output_type": "execute_result",
          "data": {
            "text/plain": [
              "0        58.71410\n",
              "1         6.61188\n",
              "2        25.54190\n",
              "3        65.39590\n",
              "4        61.45040\n",
              "           ...   \n",
              "99995    12.31310\n",
              "99996    18.46420\n",
              "99997     4.18566\n",
              "99998    54.46220\n",
              "99999     7.64000\n",
              "Name: E1, Length: 100000, dtype: float64"
            ]
          },
          "metadata": {},
          "execution_count": 10
        }
      ],
      "source": [
        "import io\n",
        "data = pd.read_csv(io.BytesIO(uploaded['dielectron.csv']))\n",
        "data[\"E1\"]"
      ]
    },
    {
      "cell_type": "code",
      "source": [
        "DataFrame = [\"E1\", \"E2\", \"M\"]\n",
        "\n",
        "for dataSet in DataFrame:\n",
        "  plt.figure(figsize = (16,5))\n",
        "  sns.histplot(data = data, x = dataSet , bins = 20 , binrange = (0, 100))\n",
        "  plt.show()"
      ],
      "metadata": {
        "colab": {
          "base_uri": "https://localhost:8080/",
          "height": 968
        },
        "id": "y_EzwEuhu7b8",
        "outputId": "01bf1025-10f7-48b5-f681-47ac95995def"
      },
      "execution_count": null,
      "outputs": [
        {
          "output_type": "display_data",
          "data": {
            "text/plain": [
              "<Figure size 1152x360 with 1 Axes>"
            ],
            "image/png": "[encoded data removed]"
          },
          "metadata": {}
        },
        {
          "output_type": "display_data",
          "data": {
            "text/plain": [
              "<Figure size 1152x360 with 1 Axes>"
            ],
            "image/png": "[encoded data removed]"
          },
          "metadata": {}
        },
        {
          "output_type": "display_data",
          "data": {
            "text/plain": [
              "<Figure size 1152x360 with 1 Axes>"
            ],
            "image/png": "[encoded data removed]"
          },
          "metadata": {}
        }
      ]
    },
    {
      "cell_type": "markdown",
      "metadata": {
        "id": "_3MUK0-6nNTo"
      },
      "source": [
        "**Ответ:**E1,E2 - похожи на экспоненциальное, M - сказать нельзя\n",
        "\n",
        "\n",
        "---\n",
        "\n"
      ]
    },
    {
      "cell_type": "markdown",
      "metadata": {
        "id": "754pQv7nnNTo"
      },
      "source": [
        "**2.** Пусть есть выборка $X_1, ..., X_n$. Опишите процедуру бутстрепа построения доверительного интервала для величины $\\theta = \\mathsf{E} X_1$. Рассмотрите три типа  бутстрепных доверительных интервалов, выпишите формулу для каждого из них."
      ]
    },
    {
      "cell_type": "markdown",
      "metadata": {
        "id": "_WL6byhhnNTo"
      },
      "source": [
        "**Описание:** 1.Генерируем B выборок с рандомными значениями из исходной.\n",
        "2.Считаем среднее по каждой выборке\n",
        "3.Считаем бутстрепную оценку дисперсии\n",
        "4.Строим на основе этого доверительные интервалы\n"
      ]
    },
    {
      "cell_type": "markdown",
      "metadata": {
        "id": "dsNrJXH-nNTo"
      },
      "source": []
    },
    {
      "cell_type": "markdown",
      "metadata": {
        "id": "mG-hyMe6nNTo"
      },
      "source": [
        "**3.** Реализуйте функцию вычисления выборки оценок $\\theta^*_1, \\ldots \\theta^*_B$ для оценки $\\widehat \\theta$ методом бутстрепа. Функция должна принимать на вход выборку и количество бутстрепных выборок $B$."
      ]
    },
    {
      "cell_type": "code",
      "execution_count": null,
      "metadata": {
        "id": "HBqnww6RnNTp"
      },
      "outputs": [],
      "source": [
        "def estimator(sample):\n",
        "    '''\n",
        "    Делает необходимые преобразования с выборкой (выполняет подсчет статистики).\n",
        "    Используется в функции bootstrap для вычисления оценок.\n",
        "\n",
        "    :param sample: массив с числами\n",
        "    :return: оценка, посчитанная по выборке\n",
        "    '''\n",
        "\n",
        "    return np.nanmean(sample, axis = 1)\n",
        "\n",
        "\n",
        "def bootstrap(sample, B=100_000):\n",
        "    '''\n",
        "    Реализует процедуру бутстрепа.\n",
        "\n",
        "    :param sample: исходная выборка, по которой будут вычисляться бутстрепные оценки\n",
        "    :param B: число бутстрепных оценок\n",
        "    :return: возвращает массив длины B c бутстрепными оценками\n",
        "    '''\n",
        "    n = len(sample)  # длина выборки\n",
        "    step = 100\n",
        "    estimations = [estimator(np.random.choice(sample, size = (step, n))) for _ in np.arange(0, B, step)]\n",
        "    return np.concatenate(estimations)"
      ]
    },
    {
      "cell_type": "markdown",
      "metadata": {
        "id": "4mZZvsg0nNTp"
      },
      "source": [
        "**4.** Реализуйте три типа бутстрепных доверительных интервалы в виде функций, принимающих на вход выборку оценок, полученных с помощью бутстрепа. Реализовывать вычисление бутстрепных интервалов для подвыборок размера от 1 до n не нужно, только для всей выборки."
      ]
    },
    {
      "cell_type": "code",
      "execution_count": null,
      "metadata": {
        "id": "e3emw0crnNTp"
      },
      "outputs": [],
      "source": [
        "def boostrap_normal_confidence_interval(bootstrap_estimations, alpha=0.95):\n",
        "    bootstrap_variance = np.mean(np.power(bootstrap_estimations, 2)) - np.power(np.mean(bootstrap_estimations), 2)\n",
        "    quantile = sps.norm.ppf((1 - alpha) / 2)\n",
        "    return quantile * np.sqrt(bootstrap_variance)\n",
        "\n",
        "\n",
        "def boostrap_central_confidence_interval(bootstrap_estimations, alpha=0.95):\n",
        "    quantileLeft = np.quantile(bootstrap_estimations, quantile = (1 + alpha) / 2)\n",
        "    quantileRight = np.quantile(bootstrap_estimations, quantile = (1 - alpha) / 2)\n",
        "    return quantileLeft, quantileRight\n",
        "\n",
        "\n",
        "def boostrap_quantile_confidence_interval(bootstrap_estimations, alpha=0.95):\n",
        "    quantileLeft = np.quantile(bootstrap_estimations, quantile = (1 + alpha) / 2)\n",
        "    quantileRight = np.quantile(bootstrap_estimations, quantile = (1 - alpha) / 2)\n",
        "    return (quantileLeft, quantileRight)"
      ]
    },
    {
      "cell_type": "markdown",
      "metadata": {
        "id": "15G4oDJnnNTp"
      },
      "source": [
        "**5.** Для каждого признака постройте бутстрепные доверительные интервалы для $\\theta = \\mathsf{E} X_1$ и сравните их."
      ]
    },
    {
      "cell_type": "code",
      "execution_count": null,
      "metadata": {
        "id": "mcC2Tr5FnNTp"
      },
      "outputs": [],
      "source": [
        "bootstrap_estimatiors = {key: bootstrap(data[key]) for key in DataFrame}\n"
      ]
    },
    {
      "cell_type": "markdown",
      "metadata": {
        "id": "jO1B3_OMnNTq"
      },
      "source": [
        "**Вывод:**"
      ]
    },
    {
      "cell_type": "markdown",
      "metadata": {
        "id": "cmZ6MTd-nNTq"
      },
      "source": [
        "---\n",
        "\n",
        "### Задача 4.\n",
        "В данной задаче нужно исследовать бутстрепные доверительные интервалы на примере гамма-распределения $\\Gamma(\\alpha, \\beta)$ для величины $\\mathsf{E}_{\\theta} X_1 = \\frac{\\beta}{\\alpha}$.\n"
      ]
    },
    {
      "cell_type": "markdown",
      "metadata": {
        "id": "KzvGTK1jnNTq"
      },
      "source": [
        "**1.** Сгенерируйте реализации выборки из $\\Gamma(3, 2)$ размеров 5 и 100 и выведите реализации вышеупомянутых доверительных интервалов для этих двух реализаций. Сделайте **выводы**.\n",
        "\n",
        "*Замечания.*\n",
        "\n",
        "1. Исходная выборка, по которой затем будут считаться бутстрепные оценки, генерируется один раз.\n",
        "2. Процедуру бутстрепа для подсчета бутстрепных доверительных интервалов нужно выполнять один раз."
      ]
    },
    {
      "cell_type": "code",
      "execution_count": null,
      "metadata": {
        "id": "gHy0UJu7nNTq"
      },
      "outputs": [],
      "source": []
    },
    {
      "cell_type": "markdown",
      "metadata": {
        "id": "2KXgn2xfnNTq"
      },
      "source": [
        "**2.** Сравним все три типа интервалов. Во-первых, мы хотим, чтобы реальный уровень доверия этих доверительных интервалов был бы не менее 0.95. Это необходимое условие, при котором доверительный интервал корректно рассматривать. Во-вторых, мы хотим получить доверительный интервал как можно меньшей длины.\n",
        "\n",
        "Сгенерируйте $10^4$ выборок размера 5 из распределения $\\Gamma(3, 2)$."
      ]
    },
    {
      "cell_type": "code",
      "execution_count": null,
      "metadata": {
        "id": "UcbkUupMnNTq"
      },
      "outputs": [],
      "source": []
    },
    {
      "cell_type": "markdown",
      "metadata": {
        "id": "Sg6tuyVynNTq"
      },
      "source": [
        "По каждой выборке посчитайте выборку оценок методом бутстрепа с $B = 10^5$.\n",
        "\n",
        "*Предупреждение*: код может работать долго, особенно при неоптимальной реализации."
      ]
    },
    {
      "cell_type": "code",
      "execution_count": null,
      "metadata": {
        "id": "ztCdBS98nNTr"
      },
      "outputs": [],
      "source": []
    },
    {
      "cell_type": "markdown",
      "metadata": {
        "id": "Il4fL6l-nNTr"
      },
      "source": [
        "Посчитайте реализации всех доверительных интервалов."
      ]
    },
    {
      "cell_type": "code",
      "execution_count": null,
      "metadata": {
        "id": "UuDY4elOnNTr"
      },
      "outputs": [],
      "source": []
    },
    {
      "cell_type": "markdown",
      "metadata": {
        "id": "vn2xeCvjnNTr"
      },
      "source": [
        "По полученным реализациям посчитайте\n",
        "* оценку реального уровня доверия &mdash; долю реализаций исходных выборок, для которых истинное значение оцениваемого параметра попадает в реализацию доверительного интервала;\n",
        "* среднюю длину реализаций доверительных интервалов."
      ]
    },
    {
      "cell_type": "code",
      "execution_count": null,
      "metadata": {
        "id": "DsMCJtyAnNTr"
      },
      "outputs": [],
      "source": []
    },
    {
      "cell_type": "markdown",
      "metadata": {
        "id": "YlHSJZ73nNTs"
      },
      "source": [
        "**3.** Повторите эксперимент для выборок размера 100."
      ]
    },
    {
      "cell_type": "code",
      "execution_count": null,
      "metadata": {
        "id": "rJW6NrKHnNTs"
      },
      "outputs": [],
      "source": []
    },
    {
      "cell_type": "markdown",
      "metadata": {
        "id": "VJmj58TBnNTs"
      },
      "source": [
        "Сделайте общие **выводы** по задаче."
      ]
    },
    {
      "cell_type": "markdown",
      "metadata": {
        "id": "R9_XsqlKnNTs"
      },
      "source": [
        "**Вывод:**"
      ]
    },
    {
      "cell_type": "markdown",
      "metadata": {
        "id": "JFLAcSWUnNTt"
      },
      "source": [
        "---\n",
        "### <b><i><font color=\"orange\">Сложная часть</font></i></b>\n",
        "\n",
        "### Задача 5.\n",
        "На высоте 1 метр от точки $\\theta$ находится источник $\\gamma$-излучения, который излучает безмассовых $\\gamma$-котиков, причем направления траекторий $\\gamma$-котиков случайны, т.е. равномерно распределены по полуокружности. Регистрируются координаты $X_i, i=1,...,n$ точек пересечения $\\gamma$-котиков с поверхностью детекторной плоскости.\n",
        "- Найдите оценку максимального правдоподобия параметра $\\theta$ для $n=1$ и $n=2$.\n",
        "- Найдите асимптотическую дисперсию, которую может обещать теорема о свойствах ОМП. Что мешает применить эту теорему? Сравните с оценкой с помощью выборочной медианы."
      ]
    },
    {
      "cell_type": "markdown",
      "metadata": {
        "id": "0JfVZlqEnNTt"
      },
      "source": [
        "### Задача 6.\n",
        "\n",
        "\n",
        "Сгенерируйте выборку $X = \\left(X_1, \\dots, X_{1000} \\right)$ из стандартного распределения Коши. Для всех $n \\leqslant 1000$ по первым $n$ элементам выборки $X_1, \\dots, X_n$ вычислите значения следующих оценок:\n",
        "- $\\overline{X}$  —  выборочное среднее;\n",
        "- $\\overline{X}_{\\alpha}$ —  усеченное среднее, где $\\alpha$ &mdash; значение, на котором достигается минимум $\\sigma^2_{\\alpha}$;\n",
        "- $\\widehat{\\mu}$ —  выборочная медиана;\n",
        "\n",
        "а также, по каждой из этих оценок, одношаговую оценку.\n",
        "\n",
        "*Напоминание:* если $\\widehat{\\theta}_0$ — асимптотически нормальная оценка, то одношаговая оценка $\\widehat{\\theta}_1$ вычисляется как $\\widehat{\\theta}_1 = \\widehat{\\theta}_0 - \\left(\\ell''_X(\\widehat{\\theta}_0) \\right)^{-1} \\ell'_X(\\widehat{\\theta}_0)$, где $\\ell_X(\\theta)$ — логарифмическая функция правдоподобия. Заметим, что обычное выборочное среднее не является асимптотически нормальной оценкой, и оценка, вычисленная по формуле выше, формально не является одношаговой, однако ее все равно требуется посчитать.\n",
        "\n",
        "На одном графике изобразите зависимость значений этих оценок от $n$. Для каждой оценки $\\widehat{\\theta}_0$ соответствующая оценка $\\widehat{\\theta}_1$ должна быть изображена на графике пунктиром тем же цветом, что и $\\widehat{\\theta}_0$.\n",
        "\n",
        "Сравните асимптотические дисперсии оценок.\n",
        "\n",
        "*Замечание:* если некоторые оценки имеют большой разброс, и разница между графиками зависимостей оценок с малыми значениями недостаточно заметна, стоит сделать два графика, на одном из которых будут изображены все оценки, а на втором &mdash; только достаточно хорошие.\n"
      ]
    },
    {
      "cell_type": "code",
      "execution_count": null,
      "metadata": {
        "id": "ImHb4ZClnNTt"
      },
      "outputs": [],
      "source": []
    },
    {
      "cell_type": "markdown",
      "metadata": {
        "id": "mQ63JV1-nNTu"
      },
      "source": [
        "**Вывод:**"
      ]
    }
  ],
  "metadata": {
    "colab": {
      "provenance": []
    },
    "kernelspec": {
      "display_name": "Python 3",
      "language": "python",
      "name": "python3"
    },
    "language_info": {
      "codemirror_mode": {
        "name": "ipython",
        "version": 3
      },
      "file_extension": ".py",
      "mimetype": "text/x-python",
      "name": "python",
      "nbconvert_exporter": "python",
      "pygments_lexer": "ipython3",
      "version": "3.8.10"
    },
    "vscode": {
      "interpreter": {
        "hash": "31f2aee4e71d21fbe5cf8b01ff0e069b9275f58929596ceb00d14d90e3e16cd6"
      }
    }
  },
  "nbformat": 4,
  "nbformat_minor": 0
}