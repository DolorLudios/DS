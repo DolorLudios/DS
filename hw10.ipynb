{
  "cells": [
    {
      "cell_type": "markdown",
      "metadata": {
        "id": "NX82iVBzHjHS"
      },
      "source": [
        "# <a href=\"https://miptstats.github.io/courses/ad_mipt.html\">Phystech@DataScience</a>\n",
        "## Домашнее задание 10\n",
        "\n",
        "**Правила, <font color=\"red\">прочитайте внимательно</font>:**\n",
        "\n",
        "* Выполненную работу нужно отправить телеграм-боту `@miptstats_pds_bot`. Для начала работы с ботом каждый раз отправляйте `/start`. **Работы, присланные иным способом, не принимаются.**\n",
        "* Дедлайн см. в боте. После дедлайна работы не принимаются кроме случаев наличия уважительной причины.\n",
        "* Прислать нужно ноутбук в формате `ipynb`.\n",
        "* Выполнять задание необходимо полностью самостоятельно. **При обнаружении списывания все участники списывания будут сдавать устный зачет.**\n",
        "* Решения, размещенные на каких-либо интернет-ресурсах, не принимаются. Кроме того, публикация решения в открытом доступе может быть приравнена к предоставлении возможности списать.\n",
        "* Для выполнения задания используйте этот ноутбук в качестве основы, ничего не удаляя из него. Можно добавлять необходимое количество ячеек.\n",
        "* Комментарии к решению пишите в markdown-ячейках.\n",
        "* Выполнение задания (ход решения, выводы и пр.) должно быть осуществлено на русском языке.\n",
        "* Если код будет не понятен проверяющему, оценка может быть снижена.\n",
        "* Никакой код из данного задания при проверке запускаться не будет. *Если код студента не выполнен, недописан и т.д., то он не оценивается.*\n",
        "* **Код из рассказанных на занятиях ноутбуков можно использовать без ограничений.**\n",
        "\n",
        "**Правила оформления теоретических задач:**\n",
        "\n",
        "* Решения необходимо прислать одним из следующих способов:\n",
        "  * фотографией в правильной ориентации, где все четко видно, а почерк разборчив,\n",
        "    * отправив ее как файл боту вместе с ноутбуком *или*\n",
        "    * вставив ее в ноутбук посредством `Edit -> Insert Image` (<font color=\"red\">фото, вставленные ссылкой, не принимаются</font>);\n",
        "  * в виде $\\LaTeX$ в markdown-ячейках.\n",
        "* Решения не проверяются, если какое-то требование не выполнено. Особенно внимательно все проверьте в случае выбора второго пункта (вставки фото в ноутбук). <font color=\"red\"><b>Неправильно вставленные фотографии могут не передаться при отправке.</b></font> Для проверки попробуйте переместить `ipynb` в другую папку и открыть его там.\n",
        "* В решениях поясняйте, чем вы пользуетесь, хотя бы кратко. Например, если пользуетесь независимостью, то достаточно подписи вида \"*X и Y незав.*\"\n",
        "* Решение, в котором есть только ответ, и отсутствуют вычисления, оценивается в 0 баллов.\n",
        "\n",
        "**Баллы за задание:**\n",
        "\n",
        "<b><font color=\"blue\">Легкая часть</font></b> (достаточно на \"хор\"):\n",
        "* Задача 1 &mdash;  15 баллов\n",
        "* Задача 2 &mdash;  40 баллов\n",
        "\n",
        "<b><font color=\"orange\">Cложная часть</font></b> (необходимо на \"отл\"):\n",
        "* Задача 2 &mdash;  50 баллов\n",
        "* Задача 4 &mdash;  40 баллов\n",
        "\n",
        "\n",
        "\n",
        "\n",
        "\n",
        "-----"
      ]
    },
    {
      "cell_type": "code",
      "execution_count": null,
      "metadata": {
        "id": "LajYfs0HHjHV"
      },
      "outputs": [],
      "source": [
        "import numpy as np\n",
        "import pandas as pd\n",
        "import matplotlib.pyplot as plt\n",
        "import seaborn as sns\n",
        "import scipy.stats as sps\n",
        "from sklearn.tree import DecisionTreeRegressor\n",
        "\n",
        "sns.set(style='whitegrid', font_scale=1.3, palette='Set2')"
      ]
    },
    {
      "cell_type": "markdown",
      "metadata": {
        "id": "Umsry1AmHjHV"
      },
      "source": [
        "При решении задания используйте `sklearn`. Пропишите сюда необходимые импорты"
      ]
    },
    {
      "cell_type": "code",
      "execution_count": null,
      "metadata": {
        "id": "LBmKsb3OHjHW"
      },
      "outputs": [],
      "source": [
        "from sklearn.metrics import accuracy_score, mean_squared_error\n",
        "from sklearn.tree import DecisionTreeClassifier\n",
        "from sklearn.model_selection import train_test_split\n",
        "from sklearn import tree\n",
        "from sklearn.preprocessing import LabelEncoder\n",
        "from sklearn.ensemble import RandomForestClassifier, RandomForestRegressor\n",
        "from sklearn.preprocessing import StandardScaler"
      ]
    },
    {
      "cell_type": "markdown",
      "metadata": {
        "id": "AgSwoinxHjHW"
      },
      "source": [
        "---\n",
        "## Задача 1\n",
        "\n",
        "Перед обучением линейной регрессии вы могли совершать некоторые преобразования над признаками. Какие преобразования стоит совершить перед обучением решающего дерева?\n",
        "\n",
        "В частности, ответьте на вопрос, имеет ли смысл примененять следующие преобразования:\n",
        "* монотонные функции от одного признака;\n",
        "* немонотонные функции от одного признака;\n",
        "* линейные функции от нескольких признаков;\n",
        "* нелинейные функции от нескольких признаков;\n",
        "* стандартизация признаков;\n",
        "* преобразования категориальных признаков.\n",
        "\n",
        "Например, вместо/дополнительно с признаком $x_j$ рассматривать признак $f(x_j)$, для указанных выше типов функций."
      ]
    },
    {
      "cell_type": "markdown",
      "metadata": {
        "id": "7J0XrRSMHjHW"
      },
      "source": [
        "\n",
        "## Задача 2\n",
        "\n",
        "### 1. Загрузка и предобработка данных.\n"
      ]
    },
    {
      "cell_type": "markdown",
      "metadata": {
        "id": "Tc77ZjsLHjHW"
      },
      "source": [
        "\n",
        "\n",
        "Скачайте [данные](https://www.kaggle.com/datasets/sayansh001/crystal-structure-classification) по классификации кристаллических решеток. Целевой переменной в этой задаче является `Lowest distortion`. С сырыми данными и более подробным описанием задачи можно ознакомиться также [здесь](https://www.kaggle.com/datasets/sayansh001/crystal-structure-classification).\n"
      ]
    },
    {
      "cell_type": "code",
      "execution_count": null,
      "metadata": {
        "colab": {
          "base_uri": "https://localhost:8080/",
          "height": 262
        },
        "id": "nQ4taU9sHjHW",
        "outputId": "faed2232-ac3c-4fd7-fc85-80b1b0fc5f09"
      },
      "outputs": [
        {
          "output_type": "display_data",
          "data": {
            "text/plain": [
              "<IPython.core.display.HTML object>"
            ],
            "text/html": [
              "\n",
              "     <input type=\"file\" id=\"files-cdd1cf67-a05f-4431-95ef-9e5599b73bfc\" name=\"files[]\" multiple disabled\n",
              "        style=\"border:none\" />\n",
              "     <output id=\"result-cdd1cf67-a05f-4431-95ef-9e5599b73bfc\">\n",
              "      Upload widget is only available when the cell has been executed in the\n",
              "      current browser session. Please rerun this cell to enable.\n",
              "      </output>\n",
              "      <script>// Copyright 2017 Google LLC\n",
              "//\n",
              "// Licensed under the Apache License, Version 2.0 (the \"License\");\n",
              "// you may not use this file except in compliance with the License.\n",
              "// You may obtain a copy of the License at\n",
              "//\n",
              "//      http://www.apache.org/licenses/LICENSE-2.0\n",
              "//\n",
              "// Unless required by applicable law or agreed to in writing, software\n",
              "// distributed under the License is distributed on an \"AS IS\" BASIS,\n",
              "// WITHOUT WARRANTIES OR CONDITIONS OF ANY KIND, either express or implied.\n",
              "// See the License for the specific language governing permissions and\n",
              "// limitations under the License.\n",
              "\n",
              "/**\n",
              " * @fileoverview Helpers for google.colab Python module.\n",
              " */\n",
              "(function(scope) {\n",
              "function span(text, styleAttributes = {}) {\n",
              "  const element = document.createElement('span');\n",
              "  element.textContent = text;\n",
              "  for (const key of Object.keys(styleAttributes)) {\n",
              "    element.style[key] = styleAttributes[key];\n",
              "  }\n",
              "  return element;\n",
              "}\n",
              "\n",
              "// Max number of bytes which will be uploaded at a time.\n",
              "const MAX_PAYLOAD_SIZE = 100 * 1024;\n",
              "\n",
              "function _uploadFiles(inputId, outputId) {\n",
              "  const steps = uploadFilesStep(inputId, outputId);\n",
              "  const outputElement = document.getElementById(outputId);\n",
              "  // Cache steps on the outputElement to make it available for the next call\n",
              "  // to uploadFilesContinue from Python.\n",
              "  outputElement.steps = steps;\n",
              "\n",
              "  return _uploadFilesContinue(outputId);\n",
              "}\n",
              "\n",
              "// This is roughly an async generator (not supported in the browser yet),\n",
              "// where there are multiple asynchronous steps and the Python side is going\n",
              "// to poll for completion of each step.\n",
              "// This uses a Promise to block the python side on completion of each step,\n",
              "// then passes the result of the previous step as the input to the next step.\n",
              "function _uploadFilesContinue(outputId) {\n",
              "  const outputElement = document.getElementById(outputId);\n",
              "  const steps = outputElement.steps;\n",
              "\n",
              "  const next = steps.next(outputElement.lastPromiseValue);\n",
              "  return Promise.resolve(next.value.promise).then((value) => {\n",
              "    // Cache the last promise value to make it available to the next\n",
              "    // step of the generator.\n",
              "    outputElement.lastPromiseValue = value;\n",
              "    return next.value.response;\n",
              "  });\n",
              "}\n",
              "\n",
              "/**\n",
              " * Generator function which is called between each async step of the upload\n",
              " * process.\n",
              " * @param {string} inputId Element ID of the input file picker element.\n",
              " * @param {string} outputId Element ID of the output display.\n",
              " * @return {!Iterable<!Object>} Iterable of next steps.\n",
              " */\n",
              "function* uploadFilesStep(inputId, outputId) {\n",
              "  const inputElement = document.getElementById(inputId);\n",
              "  inputElement.disabled = false;\n",
              "\n",
              "  const outputElement = document.getElementById(outputId);\n",
              "  outputElement.innerHTML = '';\n",
              "\n",
              "  const pickedPromise = new Promise((resolve) => {\n",
              "    inputElement.addEventListener('change', (e) => {\n",
              "      resolve(e.target.files);\n",
              "    });\n",
              "  });\n",
              "\n",
              "  const cancel = document.createElement('button');\n",
              "  inputElement.parentElement.appendChild(cancel);\n",
              "  cancel.textContent = 'Cancel upload';\n",
              "  const cancelPromise = new Promise((resolve) => {\n",
              "    cancel.onclick = () => {\n",
              "      resolve(null);\n",
              "    };\n",
              "  });\n",
              "\n",
              "  // Wait for the user to pick the files.\n",
              "  const files = yield {\n",
              "    promise: Promise.race([pickedPromise, cancelPromise]),\n",
              "    response: {\n",
              "      action: 'starting',\n",
              "    }\n",
              "  };\n",
              "\n",
              "  cancel.remove();\n",
              "\n",
              "  // Disable the input element since further picks are not allowed.\n",
              "  inputElement.disabled = true;\n",
              "\n",
              "  if (!files) {\n",
              "    return {\n",
              "      response: {\n",
              "        action: 'complete',\n",
              "      }\n",
              "    };\n",
              "  }\n",
              "\n",
              "  for (const file of files) {\n",
              "    const li = document.createElement('li');\n",
              "    li.append(span(file.name, {fontWeight: 'bold'}));\n",
              "    li.append(span(\n",
              "        `(${file.type || 'n/a'}) - ${file.size} bytes, ` +\n",
              "        `last modified: ${\n",
              "            file.lastModifiedDate ? file.lastModifiedDate.toLocaleDateString() :\n",
              "                                    'n/a'} - `));\n",
              "    const percent = span('0% done');\n",
              "    li.appendChild(percent);\n",
              "\n",
              "    outputElement.appendChild(li);\n",
              "\n",
              "    const fileDataPromise = new Promise((resolve) => {\n",
              "      const reader = new FileReader();\n",
              "      reader.onload = (e) => {\n",
              "        resolve(e.target.result);\n",
              "      };\n",
              "      reader.readAsArrayBuffer(file);\n",
              "    });\n",
              "    // Wait for the data to be ready.\n",
              "    let fileData = yield {\n",
              "      promise: fileDataPromise,\n",
              "      response: {\n",
              "        action: 'continue',\n",
              "      }\n",
              "    };\n",
              "\n",
              "    // Use a chunked sending to avoid message size limits. See b/62115660.\n",
              "    let position = 0;\n",
              "    do {\n",
              "      const length = Math.min(fileData.byteLength - position, MAX_PAYLOAD_SIZE);\n",
              "      const chunk = new Uint8Array(fileData, position, length);\n",
              "      position += length;\n",
              "\n",
              "      const base64 = btoa(String.fromCharCode.apply(null, chunk));\n",
              "      yield {\n",
              "        response: {\n",
              "          action: 'append',\n",
              "          file: file.name,\n",
              "          data: base64,\n",
              "        },\n",
              "      };\n",
              "\n",
              "      let percentDone = fileData.byteLength === 0 ?\n",
              "          100 :\n",
              "          Math.round((position / fileData.byteLength) * 100);\n",
              "      percent.textContent = `${percentDone}% done`;\n",
              "\n",
              "    } while (position < fileData.byteLength);\n",
              "  }\n",
              "\n",
              "  // All done.\n",
              "  yield {\n",
              "    response: {\n",
              "      action: 'complete',\n",
              "    }\n",
              "  };\n",
              "}\n",
              "\n",
              "scope.google = scope.google || {};\n",
              "scope.google.colab = scope.google.colab || {};\n",
              "scope.google.colab._files = {\n",
              "  _uploadFiles,\n",
              "  _uploadFilesContinue,\n",
              "};\n",
              "})(self);\n",
              "</script> "
            ]
          },
          "metadata": {}
        },
        {
          "output_type": "stream",
          "name": "stdout",
          "text": [
            "Saving Crystal_structure.csv to Crystal_structure (1).csv\n"
          ]
        },
        {
          "output_type": "execute_result",
          "data": {
            "text/plain": [
              "  Compound   A   B  In literature v(A) v(B)  r(AXII)(Å)  r(AVI)(Å)  r(BVI)(Å)  \\\n",
              "0    Ac2O3  Ac  Ac          False    0    0        1.12       1.12       1.12   \n",
              "1   AcAgO3  Ac  Ag          False    0    0        1.12       1.12       0.95   \n",
              "2   AcAlO3  Ac  Al          False    0    0        1.12       1.12       0.54   \n",
              "3   AcAsO3  Ac  As          False    0    0        1.12       1.12       0.52   \n",
              "4   AcAuO3  Ac  Au          False    0    0        1.12       1.12       0.93   \n",
              "\n",
              "   EN(A)  EN(B)  l(A-O)(Å)  l(B-O)(Å)      ΔENR        tG  τ         μ  \\\n",
              "0    1.1   1.10        0.0   0.000000 -3.248000  0.707107  -  0.800000   \n",
              "1    1.1   1.93        0.0   2.488353 -2.565071  0.758259  -  0.678571   \n",
              "2    1.1   1.61        0.0   1.892894 -1.846714  0.918510  -  0.385714   \n",
              "3    1.1   2.18        0.0   1.932227 -1.577429  0.928078  -  0.371429   \n",
              "4    1.1   2.54        0.0   2.313698 -2.279786  0.764768  -  0.664286   \n",
              "\n",
              "  Lowest distortion  \n",
              "0             cubic  \n",
              "1      orthorhombic  \n",
              "2             cubic  \n",
              "3      orthorhombic  \n",
              "4      orthorhombic  "
            ],
            "text/html": [
              "\n",
              "  <div id=\"df-53e8b1b6-f5e1-4092-a7cb-ff9bd140e450\">\n",
              "    <div class=\"colab-df-container\">\n",
              "      <div>\n",
              "<style scoped>\n",
              "    .dataframe tbody tr th:only-of-type {\n",
              "        vertical-align: middle;\n",
              "    }\n",
              "\n",
              "    .dataframe tbody tr th {\n",
              "        vertical-align: top;\n",
              "    }\n",
              "\n",
              "    .dataframe thead th {\n",
              "        text-align: right;\n",
              "    }\n",
              "</style>\n",
              "<table border=\"1\" class=\"dataframe\">\n",
              "  <thead>\n",
              "    <tr style=\"text-align: right;\">\n",
              "      <th></th>\n",
              "      <th>Compound</th>\n",
              "      <th>A</th>\n",
              "      <th>B</th>\n",
              "      <th>In literature</th>\n",
              "      <th>v(A)</th>\n",
              "      <th>v(B)</th>\n",
              "      <th>r(AXII)(Å)</th>\n",
              "      <th>r(AVI)(Å)</th>\n",
              "      <th>r(BVI)(Å)</th>\n",
              "      <th>EN(A)</th>\n",
              "      <th>EN(B)</th>\n",
              "      <th>l(A-O)(Å)</th>\n",
              "      <th>l(B-O)(Å)</th>\n",
              "      <th>ΔENR</th>\n",
              "      <th>tG</th>\n",
              "      <th>τ</th>\n",
              "      <th>μ</th>\n",
              "      <th>Lowest distortion</th>\n",
              "    </tr>\n",
              "  </thead>\n",
              "  <tbody>\n",
              "    <tr>\n",
              "      <th>0</th>\n",
              "      <td>Ac2O3</td>\n",
              "      <td>Ac</td>\n",
              "      <td>Ac</td>\n",
              "      <td>False</td>\n",
              "      <td>0</td>\n",
              "      <td>0</td>\n",
              "      <td>1.12</td>\n",
              "      <td>1.12</td>\n",
              "      <td>1.12</td>\n",
              "      <td>1.1</td>\n",
              "      <td>1.10</td>\n",
              "      <td>0.0</td>\n",
              "      <td>0.000000</td>\n",
              "      <td>-3.248000</td>\n",
              "      <td>0.707107</td>\n",
              "      <td>-</td>\n",
              "      <td>0.800000</td>\n",
              "      <td>cubic</td>\n",
              "    </tr>\n",
              "    <tr>\n",
              "      <th>1</th>\n",
              "      <td>AcAgO3</td>\n",
              "      <td>Ac</td>\n",
              "      <td>Ag</td>\n",
              "      <td>False</td>\n",
              "      <td>0</td>\n",
              "      <td>0</td>\n",
              "      <td>1.12</td>\n",
              "      <td>1.12</td>\n",
              "      <td>0.95</td>\n",
              "      <td>1.1</td>\n",
              "      <td>1.93</td>\n",
              "      <td>0.0</td>\n",
              "      <td>2.488353</td>\n",
              "      <td>-2.565071</td>\n",
              "      <td>0.758259</td>\n",
              "      <td>-</td>\n",
              "      <td>0.678571</td>\n",
              "      <td>orthorhombic</td>\n",
              "    </tr>\n",
              "    <tr>\n",
              "      <th>2</th>\n",
              "      <td>AcAlO3</td>\n",
              "      <td>Ac</td>\n",
              "      <td>Al</td>\n",
              "      <td>False</td>\n",
              "      <td>0</td>\n",
              "      <td>0</td>\n",
              "      <td>1.12</td>\n",
              "      <td>1.12</td>\n",
              "      <td>0.54</td>\n",
              "      <td>1.1</td>\n",
              "      <td>1.61</td>\n",
              "      <td>0.0</td>\n",
              "      <td>1.892894</td>\n",
              "      <td>-1.846714</td>\n",
              "      <td>0.918510</td>\n",
              "      <td>-</td>\n",
              "      <td>0.385714</td>\n",
              "      <td>cubic</td>\n",
              "    </tr>\n",
              "    <tr>\n",
              "      <th>3</th>\n",
              "      <td>AcAsO3</td>\n",
              "      <td>Ac</td>\n",
              "      <td>As</td>\n",
              "      <td>False</td>\n",
              "      <td>0</td>\n",
              "      <td>0</td>\n",
              "      <td>1.12</td>\n",
              "      <td>1.12</td>\n",
              "      <td>0.52</td>\n",
              "      <td>1.1</td>\n",
              "      <td>2.18</td>\n",
              "      <td>0.0</td>\n",
              "      <td>1.932227</td>\n",
              "      <td>-1.577429</td>\n",
              "      <td>0.928078</td>\n",
              "      <td>-</td>\n",
              "      <td>0.371429</td>\n",
              "      <td>orthorhombic</td>\n",
              "    </tr>\n",
              "    <tr>\n",
              "      <th>4</th>\n",
              "      <td>AcAuO3</td>\n",
              "      <td>Ac</td>\n",
              "      <td>Au</td>\n",
              "      <td>False</td>\n",
              "      <td>0</td>\n",
              "      <td>0</td>\n",
              "      <td>1.12</td>\n",
              "      <td>1.12</td>\n",
              "      <td>0.93</td>\n",
              "      <td>1.1</td>\n",
              "      <td>2.54</td>\n",
              "      <td>0.0</td>\n",
              "      <td>2.313698</td>\n",
              "      <td>-2.279786</td>\n",
              "      <td>0.764768</td>\n",
              "      <td>-</td>\n",
              "      <td>0.664286</td>\n",
              "      <td>orthorhombic</td>\n",
              "    </tr>\n",
              "  </tbody>\n",
              "</table>\n",
              "</div>\n",
              "      <button class=\"colab-df-convert\" onclick=\"convertToInteractive('df-53e8b1b6-f5e1-4092-a7cb-ff9bd140e450')\"\n",
              "              title=\"Convert this dataframe to an interactive table.\"\n",
              "              style=\"display:none;\">\n",
              "        \n",
              "  <svg xmlns=\"http://www.w3.org/2000/svg\" height=\"24px\"viewBox=\"0 0 24 24\"\n",
              "       width=\"24px\">\n",
              "    <path d=\"M0 0h24v24H0V0z\" fill=\"none\"/>\n",
              "    <path d=\"M18.56 5.44l.94 2.06.94-2.06 2.06-.94-2.06-.94-.94-2.06-.94 2.06-2.06.94zm-11 1L8.5 8.5l.94-2.06 2.06-.94-2.06-.94L8.5 2.5l-.94 2.06-2.06.94zm10 10l.94 2.06.94-2.06 2.06-.94-2.06-.94-.94-2.06-.94 2.06-2.06.94z\"/><path d=\"M17.41 7.96l-1.37-1.37c-.4-.4-.92-.59-1.43-.59-.52 0-1.04.2-1.43.59L10.3 9.45l-7.72 7.72c-.78.78-.78 2.05 0 2.83L4 21.41c.39.39.9.59 1.41.59.51 0 1.02-.2 1.41-.59l7.78-7.78 2.81-2.81c.8-.78.8-2.07 0-2.86zM5.41 20L4 18.59l7.72-7.72 1.47 1.35L5.41 20z\"/>\n",
              "  </svg>\n",
              "      </button>\n",
              "      \n",
              "  <style>\n",
              "    .colab-df-container {\n",
              "      display:flex;\n",
              "      flex-wrap:wrap;\n",
              "      gap: 12px;\n",
              "    }\n",
              "\n",
              "    .colab-df-convert {\n",
              "      background-color: #E8F0FE;\n",
              "      border: none;\n",
              "      border-radius: 50%;\n",
              "      cursor: pointer;\n",
              "      display: none;\n",
              "      fill: #1967D2;\n",
              "      height: 32px;\n",
              "      padding: 0 0 0 0;\n",
              "      width: 32px;\n",
              "    }\n",
              "\n",
              "    .colab-df-convert:hover {\n",
              "      background-color: #E2EBFA;\n",
              "      box-shadow: 0px 1px 2px rgba(60, 64, 67, 0.3), 0px 1px 3px 1px rgba(60, 64, 67, 0.15);\n",
              "      fill: #174EA6;\n",
              "    }\n",
              "\n",
              "    [theme=dark] .colab-df-convert {\n",
              "      background-color: #3B4455;\n",
              "      fill: #D2E3FC;\n",
              "    }\n",
              "\n",
              "    [theme=dark] .colab-df-convert:hover {\n",
              "      background-color: #434B5C;\n",
              "      box-shadow: 0px 1px 3px 1px rgba(0, 0, 0, 0.15);\n",
              "      filter: drop-shadow(0px 1px 2px rgba(0, 0, 0, 0.3));\n",
              "      fill: #FFFFFF;\n",
              "    }\n",
              "  </style>\n",
              "\n",
              "      <script>\n",
              "        const buttonEl =\n",
              "          document.querySelector('#df-53e8b1b6-f5e1-4092-a7cb-ff9bd140e450 button.colab-df-convert');\n",
              "        buttonEl.style.display =\n",
              "          google.colab.kernel.accessAllowed ? 'block' : 'none';\n",
              "\n",
              "        async function convertToInteractive(key) {\n",
              "          const element = document.querySelector('#df-53e8b1b6-f5e1-4092-a7cb-ff9bd140e450');\n",
              "          const dataTable =\n",
              "            await google.colab.kernel.invokeFunction('convertToInteractive',\n",
              "                                                     [key], {});\n",
              "          if (!dataTable) return;\n",
              "\n",
              "          const docLinkHtml = 'Like what you see? Visit the ' +\n",
              "            '<a target=\"_blank\" href=https://colab.research.google.com/notebooks/data_table.ipynb>data table notebook</a>'\n",
              "            + ' to learn more about interactive tables.';\n",
              "          element.innerHTML = '';\n",
              "          dataTable['output_type'] = 'display_data';\n",
              "          await google.colab.output.renderOutput(dataTable, element);\n",
              "          const docLink = document.createElement('div');\n",
              "          docLink.innerHTML = docLinkHtml;\n",
              "          element.appendChild(docLink);\n",
              "        }\n",
              "      </script>\n",
              "    </div>\n",
              "  </div>\n",
              "  "
            ]
          },
          "metadata": {},
          "execution_count": 33
        }
      ],
      "source": [
        "from google.colab import files\n",
        "uploaded = files.upload()\n",
        "\n",
        "import io\n",
        "data = pd.read_csv(io.BytesIO(uploaded['Crystal_structure.csv']))\n",
        "data.head()\n"
      ]
    },
    {
      "cell_type": "markdown",
      "metadata": {
        "id": "vDkk2i9XHjHW"
      },
      "source": [
        "Сделаем предобработку данных."
      ]
    },
    {
      "cell_type": "code",
      "source": [
        "data.head()"
      ],
      "metadata": {
        "colab": {
          "base_uri": "https://localhost:8080/",
          "height": 206
        },
        "id": "qQtHdrN4JTJ9",
        "outputId": "55bbacce-5840-4864-881f-29379688fcd4"
      },
      "execution_count": null,
      "outputs": [
        {
          "output_type": "execute_result",
          "data": {
            "text/plain": [
              "  Compound   A   B  In literature v(A) v(B)  r(AXII)(Å)  r(AVI)(Å)  r(BVI)(Å)  \\\n",
              "0    Ac2O3  Ac  Ac          False    0    0        1.12       1.12       1.12   \n",
              "1   AcAgO3  Ac  Ag          False    0    0        1.12       1.12       0.95   \n",
              "2   AcAlO3  Ac  Al          False    0    0        1.12       1.12       0.54   \n",
              "3   AcAsO3  Ac  As          False    0    0        1.12       1.12       0.52   \n",
              "4   AcAuO3  Ac  Au          False    0    0        1.12       1.12       0.93   \n",
              "\n",
              "   EN(A)  EN(B)  l(A-O)(Å)  l(B-O)(Å)      ΔENR        tG  τ         μ  \\\n",
              "0    1.1   1.10        0.0   0.000000 -3.248000  0.707107  -  0.800000   \n",
              "1    1.1   1.93        0.0   2.488353 -2.565071  0.758259  -  0.678571   \n",
              "2    1.1   1.61        0.0   1.892894 -1.846714  0.918510  -  0.385714   \n",
              "3    1.1   2.18        0.0   1.932227 -1.577429  0.928078  -  0.371429   \n",
              "4    1.1   2.54        0.0   2.313698 -2.279786  0.764768  -  0.664286   \n",
              "\n",
              "  Lowest distortion  \n",
              "0             cubic  \n",
              "1      orthorhombic  \n",
              "2             cubic  \n",
              "3      orthorhombic  \n",
              "4      orthorhombic  "
            ],
            "text/html": [
              "\n",
              "  <div id=\"df-874e6d73-fc9b-434d-b45c-c792dc48ce7b\">\n",
              "    <div class=\"colab-df-container\">\n",
              "      <div>\n",
              "<style scoped>\n",
              "    .dataframe tbody tr th:only-of-type {\n",
              "        vertical-align: middle;\n",
              "    }\n",
              "\n",
              "    .dataframe tbody tr th {\n",
              "        vertical-align: top;\n",
              "    }\n",
              "\n",
              "    .dataframe thead th {\n",
              "        text-align: right;\n",
              "    }\n",
              "</style>\n",
              "<table border=\"1\" class=\"dataframe\">\n",
              "  <thead>\n",
              "    <tr style=\"text-align: right;\">\n",
              "      <th></th>\n",
              "      <th>Compound</th>\n",
              "      <th>A</th>\n",
              "      <th>B</th>\n",
              "      <th>In literature</th>\n",
              "      <th>v(A)</th>\n",
              "      <th>v(B)</th>\n",
              "      <th>r(AXII)(Å)</th>\n",
              "      <th>r(AVI)(Å)</th>\n",
              "      <th>r(BVI)(Å)</th>\n",
              "      <th>EN(A)</th>\n",
              "      <th>EN(B)</th>\n",
              "      <th>l(A-O)(Å)</th>\n",
              "      <th>l(B-O)(Å)</th>\n",
              "      <th>ΔENR</th>\n",
              "      <th>tG</th>\n",
              "      <th>τ</th>\n",
              "      <th>μ</th>\n",
              "      <th>Lowest distortion</th>\n",
              "    </tr>\n",
              "  </thead>\n",
              "  <tbody>\n",
              "    <tr>\n",
              "      <th>0</th>\n",
              "      <td>Ac2O3</td>\n",
              "      <td>Ac</td>\n",
              "      <td>Ac</td>\n",
              "      <td>False</td>\n",
              "      <td>0</td>\n",
              "      <td>0</td>\n",
              "      <td>1.12</td>\n",
              "      <td>1.12</td>\n",
              "      <td>1.12</td>\n",
              "      <td>1.1</td>\n",
              "      <td>1.10</td>\n",
              "      <td>0.0</td>\n",
              "      <td>0.000000</td>\n",
              "      <td>-3.248000</td>\n",
              "      <td>0.707107</td>\n",
              "      <td>-</td>\n",
              "      <td>0.800000</td>\n",
              "      <td>cubic</td>\n",
              "    </tr>\n",
              "    <tr>\n",
              "      <th>1</th>\n",
              "      <td>AcAgO3</td>\n",
              "      <td>Ac</td>\n",
              "      <td>Ag</td>\n",
              "      <td>False</td>\n",
              "      <td>0</td>\n",
              "      <td>0</td>\n",
              "      <td>1.12</td>\n",
              "      <td>1.12</td>\n",
              "      <td>0.95</td>\n",
              "      <td>1.1</td>\n",
              "      <td>1.93</td>\n",
              "      <td>0.0</td>\n",
              "      <td>2.488353</td>\n",
              "      <td>-2.565071</td>\n",
              "      <td>0.758259</td>\n",
              "      <td>-</td>\n",
              "      <td>0.678571</td>\n",
              "      <td>orthorhombic</td>\n",
              "    </tr>\n",
              "    <tr>\n",
              "      <th>2</th>\n",
              "      <td>AcAlO3</td>\n",
              "      <td>Ac</td>\n",
              "      <td>Al</td>\n",
              "      <td>False</td>\n",
              "      <td>0</td>\n",
              "      <td>0</td>\n",
              "      <td>1.12</td>\n",
              "      <td>1.12</td>\n",
              "      <td>0.54</td>\n",
              "      <td>1.1</td>\n",
              "      <td>1.61</td>\n",
              "      <td>0.0</td>\n",
              "      <td>1.892894</td>\n",
              "      <td>-1.846714</td>\n",
              "      <td>0.918510</td>\n",
              "      <td>-</td>\n",
              "      <td>0.385714</td>\n",
              "      <td>cubic</td>\n",
              "    </tr>\n",
              "    <tr>\n",
              "      <th>3</th>\n",
              "      <td>AcAsO3</td>\n",
              "      <td>Ac</td>\n",
              "      <td>As</td>\n",
              "      <td>False</td>\n",
              "      <td>0</td>\n",
              "      <td>0</td>\n",
              "      <td>1.12</td>\n",
              "      <td>1.12</td>\n",
              "      <td>0.52</td>\n",
              "      <td>1.1</td>\n",
              "      <td>2.18</td>\n",
              "      <td>0.0</td>\n",
              "      <td>1.932227</td>\n",
              "      <td>-1.577429</td>\n",
              "      <td>0.928078</td>\n",
              "      <td>-</td>\n",
              "      <td>0.371429</td>\n",
              "      <td>orthorhombic</td>\n",
              "    </tr>\n",
              "    <tr>\n",
              "      <th>4</th>\n",
              "      <td>AcAuO3</td>\n",
              "      <td>Ac</td>\n",
              "      <td>Au</td>\n",
              "      <td>False</td>\n",
              "      <td>0</td>\n",
              "      <td>0</td>\n",
              "      <td>1.12</td>\n",
              "      <td>1.12</td>\n",
              "      <td>0.93</td>\n",
              "      <td>1.1</td>\n",
              "      <td>2.54</td>\n",
              "      <td>0.0</td>\n",
              "      <td>2.313698</td>\n",
              "      <td>-2.279786</td>\n",
              "      <td>0.764768</td>\n",
              "      <td>-</td>\n",
              "      <td>0.664286</td>\n",
              "      <td>orthorhombic</td>\n",
              "    </tr>\n",
              "  </tbody>\n",
              "</table>\n",
              "</div>\n",
              "      <button class=\"colab-df-convert\" onclick=\"convertToInteractive('df-874e6d73-fc9b-434d-b45c-c792dc48ce7b')\"\n",
              "              title=\"Convert this dataframe to an interactive table.\"\n",
              "              style=\"display:none;\">\n",
              "        \n",
              "  <svg xmlns=\"http://www.w3.org/2000/svg\" height=\"24px\"viewBox=\"0 0 24 24\"\n",
              "       width=\"24px\">\n",
              "    <path d=\"M0 0h24v24H0V0z\" fill=\"none\"/>\n",
              "    <path d=\"M18.56 5.44l.94 2.06.94-2.06 2.06-.94-2.06-.94-.94-2.06-.94 2.06-2.06.94zm-11 1L8.5 8.5l.94-2.06 2.06-.94-2.06-.94L8.5 2.5l-.94 2.06-2.06.94zm10 10l.94 2.06.94-2.06 2.06-.94-2.06-.94-.94-2.06-.94 2.06-2.06.94z\"/><path d=\"M17.41 7.96l-1.37-1.37c-.4-.4-.92-.59-1.43-.59-.52 0-1.04.2-1.43.59L10.3 9.45l-7.72 7.72c-.78.78-.78 2.05 0 2.83L4 21.41c.39.39.9.59 1.41.59.51 0 1.02-.2 1.41-.59l7.78-7.78 2.81-2.81c.8-.78.8-2.07 0-2.86zM5.41 20L4 18.59l7.72-7.72 1.47 1.35L5.41 20z\"/>\n",
              "  </svg>\n",
              "      </button>\n",
              "      \n",
              "  <style>\n",
              "    .colab-df-container {\n",
              "      display:flex;\n",
              "      flex-wrap:wrap;\n",
              "      gap: 12px;\n",
              "    }\n",
              "\n",
              "    .colab-df-convert {\n",
              "      background-color: #E8F0FE;\n",
              "      border: none;\n",
              "      border-radius: 50%;\n",
              "      cursor: pointer;\n",
              "      display: none;\n",
              "      fill: #1967D2;\n",
              "      height: 32px;\n",
              "      padding: 0 0 0 0;\n",
              "      width: 32px;\n",
              "    }\n",
              "\n",
              "    .colab-df-convert:hover {\n",
              "      background-color: #E2EBFA;\n",
              "      box-shadow: 0px 1px 2px rgba(60, 64, 67, 0.3), 0px 1px 3px 1px rgba(60, 64, 67, 0.15);\n",
              "      fill: #174EA6;\n",
              "    }\n",
              "\n",
              "    [theme=dark] .colab-df-convert {\n",
              "      background-color: #3B4455;\n",
              "      fill: #D2E3FC;\n",
              "    }\n",
              "\n",
              "    [theme=dark] .colab-df-convert:hover {\n",
              "      background-color: #434B5C;\n",
              "      box-shadow: 0px 1px 3px 1px rgba(0, 0, 0, 0.15);\n",
              "      filter: drop-shadow(0px 1px 2px rgba(0, 0, 0, 0.3));\n",
              "      fill: #FFFFFF;\n",
              "    }\n",
              "  </style>\n",
              "\n",
              "      <script>\n",
              "        const buttonEl =\n",
              "          document.querySelector('#df-874e6d73-fc9b-434d-b45c-c792dc48ce7b button.colab-df-convert');\n",
              "        buttonEl.style.display =\n",
              "          google.colab.kernel.accessAllowed ? 'block' : 'none';\n",
              "\n",
              "        async function convertToInteractive(key) {\n",
              "          const element = document.querySelector('#df-874e6d73-fc9b-434d-b45c-c792dc48ce7b');\n",
              "          const dataTable =\n",
              "            await google.colab.kernel.invokeFunction('convertToInteractive',\n",
              "                                                     [key], {});\n",
              "          if (!dataTable) return;\n",
              "\n",
              "          const docLinkHtml = 'Like what you see? Visit the ' +\n",
              "            '<a target=\"_blank\" href=https://colab.research.google.com/notebooks/data_table.ipynb>data table notebook</a>'\n",
              "            + ' to learn more about interactive tables.';\n",
              "          element.innerHTML = '';\n",
              "          dataTable['output_type'] = 'display_data';\n",
              "          await google.colab.output.renderOutput(dataTable, element);\n",
              "          const docLink = document.createElement('div');\n",
              "          docLink.innerHTML = docLinkHtml;\n",
              "          element.appendChild(docLink);\n",
              "        }\n",
              "      </script>\n",
              "    </div>\n",
              "  </div>\n",
              "  "
            ]
          },
          "metadata": {},
          "execution_count": 34
        }
      ]
    },
    {
      "cell_type": "code",
      "execution_count": null,
      "metadata": {
        "id": "2kZX0JUMHjHX"
      },
      "outputs": [],
      "source": [
        "# уберем признаки, которые нам не нужны (подробнее можете почиать во вкладке 'Code' на странице датасета)\n",
        "data = data.drop([\"In literature\",\"Compound\", \"τ\"], axis=1)\n",
        "# убираем объекты, для которых неизвестен таргет\n",
        "data = data.drop(data[data[\"Lowest distortion\"] == \"-\"].index).reset_index(drop=True)\n",
        "# закодируем целевую переменную числами\n",
        "data['Lowest distortion'] = LabelEncoder().fit_transform(data['Lowest distortion'])\n",
        "# закодируем категориальные признаки числами\n",
        "data['A'] = LabelEncoder().fit_transform(data['A'])\n",
        "data['B'] = LabelEncoder().fit_transform(data['B'])\n",
        "# обработаем пропуски\n",
        "for i in data.columns:\n",
        "    column = data[i]\n",
        "    for k in range(len(column)):\n",
        "        if column[k] == '-':\n",
        "            column[k] = 0\n",
        "    data[i] = column"
      ]
    },
    {
      "cell_type": "code",
      "source": [
        "data\n"
      ],
      "metadata": {
        "colab": {
          "base_uri": "https://localhost:8080/",
          "height": 423
        },
        "id": "8pCt9NCbJnQ0",
        "outputId": "22225deb-e99c-4244-ec13-c076474b69a8"
      },
      "execution_count": null,
      "outputs": [
        {
          "output_type": "execute_result",
          "data": {
            "text/plain": [
              "       A   B v(A) v(B)  r(AXII)(Å)  r(AVI)(Å)  r(BVI)(Å)  EN(A)  EN(B)  \\\n",
              "0      0   0    0    0        1.12       1.12       1.12   1.10   1.10   \n",
              "1      0   1    0    0        1.12       1.12       0.95   1.10   1.93   \n",
              "2      0   2    0    0        1.12       1.12       0.54   1.10   1.61   \n",
              "3      0   3    0    0        1.12       1.12       0.52   1.10   2.18   \n",
              "4      0   4    0    0        1.12       1.12       0.93   1.10   2.54   \n",
              "...   ..  ..  ...  ...         ...        ...        ...    ...    ...   \n",
              "5271  72  68    1    5        0.89       0.72       0.62   1.33   2.36   \n",
              "5272  72  69    0    0        0.89       0.72       0.90   1.33   1.22   \n",
              "5273  72  70    0    0        0.89       0.72       0.95   1.33   1.10   \n",
              "5274  72  71    0    0        0.89       0.72       0.74   1.33   1.65   \n",
              "5275  72  72    0    0        0.89       0.72       0.72   1.33   1.33   \n",
              "\n",
              "      l(A-O)(Å)  l(B-O)(Å)      ΔENR        tG         μ  Lowest distortion  \n",
              "0       0.00000   0.000000 -3.248000  0.707107  0.800000                  0  \n",
              "1       0.00000   2.488353 -2.565071  0.758259  0.678571                  1  \n",
              "2       0.00000   1.892894 -1.846714  0.918510  0.385714                  0  \n",
              "3       0.00000   1.932227 -1.577429  0.928078  0.371429                  1  \n",
              "4       0.00000   2.313698 -2.279786  0.764768  0.664286                  1  \n",
              "...         ...        ...       ...       ...       ...                ...  \n",
              "5271    2.38342   1.745600 -1.572214  0.801621  0.442857                  0  \n",
              "5272    2.38342   2.235124 -2.489571  0.704032  0.642857                  0  \n",
              "5273    2.38342   2.223981 -2.626821  0.689053  0.678571                  1  \n",
              "5274    2.38342   2.096141 -2.035750  0.756670  0.528571                  0  \n",
              "5275    2.38342   2.043778 -2.097821  0.763809  0.514286                  0  \n",
              "\n",
              "[5276 rows x 15 columns]"
            ],
            "text/html": [
              "\n",
              "  <div id=\"df-3835adb2-4894-48e2-a551-6811b0033d32\">\n",
              "    <div class=\"colab-df-container\">\n",
              "      <div>\n",
              "<style scoped>\n",
              "    .dataframe tbody tr th:only-of-type {\n",
              "        vertical-align: middle;\n",
              "    }\n",
              "\n",
              "    .dataframe tbody tr th {\n",
              "        vertical-align: top;\n",
              "    }\n",
              "\n",
              "    .dataframe thead th {\n",
              "        text-align: right;\n",
              "    }\n",
              "</style>\n",
              "<table border=\"1\" class=\"dataframe\">\n",
              "  <thead>\n",
              "    <tr style=\"text-align: right;\">\n",
              "      <th></th>\n",
              "      <th>A</th>\n",
              "      <th>B</th>\n",
              "      <th>v(A)</th>\n",
              "      <th>v(B)</th>\n",
              "      <th>r(AXII)(Å)</th>\n",
              "      <th>r(AVI)(Å)</th>\n",
              "      <th>r(BVI)(Å)</th>\n",
              "      <th>EN(A)</th>\n",
              "      <th>EN(B)</th>\n",
              "      <th>l(A-O)(Å)</th>\n",
              "      <th>l(B-O)(Å)</th>\n",
              "      <th>ΔENR</th>\n",
              "      <th>tG</th>\n",
              "      <th>μ</th>\n",
              "      <th>Lowest distortion</th>\n",
              "    </tr>\n",
              "  </thead>\n",
              "  <tbody>\n",
              "    <tr>\n",
              "      <th>0</th>\n",
              "      <td>0</td>\n",
              "      <td>0</td>\n",
              "      <td>0</td>\n",
              "      <td>0</td>\n",
              "      <td>1.12</td>\n",
              "      <td>1.12</td>\n",
              "      <td>1.12</td>\n",
              "      <td>1.10</td>\n",
              "      <td>1.10</td>\n",
              "      <td>0.00000</td>\n",
              "      <td>0.000000</td>\n",
              "      <td>-3.248000</td>\n",
              "      <td>0.707107</td>\n",
              "      <td>0.800000</td>\n",
              "      <td>0</td>\n",
              "    </tr>\n",
              "    <tr>\n",
              "      <th>1</th>\n",
              "      <td>0</td>\n",
              "      <td>1</td>\n",
              "      <td>0</td>\n",
              "      <td>0</td>\n",
              "      <td>1.12</td>\n",
              "      <td>1.12</td>\n",
              "      <td>0.95</td>\n",
              "      <td>1.10</td>\n",
              "      <td>1.93</td>\n",
              "      <td>0.00000</td>\n",
              "      <td>2.488353</td>\n",
              "      <td>-2.565071</td>\n",
              "      <td>0.758259</td>\n",
              "      <td>0.678571</td>\n",
              "      <td>1</td>\n",
              "    </tr>\n",
              "    <tr>\n",
              "      <th>2</th>\n",
              "      <td>0</td>\n",
              "      <td>2</td>\n",
              "      <td>0</td>\n",
              "      <td>0</td>\n",
              "      <td>1.12</td>\n",
              "      <td>1.12</td>\n",
              "      <td>0.54</td>\n",
              "      <td>1.10</td>\n",
              "      <td>1.61</td>\n",
              "      <td>0.00000</td>\n",
              "      <td>1.892894</td>\n",
              "      <td>-1.846714</td>\n",
              "      <td>0.918510</td>\n",
              "      <td>0.385714</td>\n",
              "      <td>0</td>\n",
              "    </tr>\n",
              "    <tr>\n",
              "      <th>3</th>\n",
              "      <td>0</td>\n",
              "      <td>3</td>\n",
              "      <td>0</td>\n",
              "      <td>0</td>\n",
              "      <td>1.12</td>\n",
              "      <td>1.12</td>\n",
              "      <td>0.52</td>\n",
              "      <td>1.10</td>\n",
              "      <td>2.18</td>\n",
              "      <td>0.00000</td>\n",
              "      <td>1.932227</td>\n",
              "      <td>-1.577429</td>\n",
              "      <td>0.928078</td>\n",
              "      <td>0.371429</td>\n",
              "      <td>1</td>\n",
              "    </tr>\n",
              "    <tr>\n",
              "      <th>4</th>\n",
              "      <td>0</td>\n",
              "      <td>4</td>\n",
              "      <td>0</td>\n",
              "      <td>0</td>\n",
              "      <td>1.12</td>\n",
              "      <td>1.12</td>\n",
              "      <td>0.93</td>\n",
              "      <td>1.10</td>\n",
              "      <td>2.54</td>\n",
              "      <td>0.00000</td>\n",
              "      <td>2.313698</td>\n",
              "      <td>-2.279786</td>\n",
              "      <td>0.764768</td>\n",
              "      <td>0.664286</td>\n",
              "      <td>1</td>\n",
              "    </tr>\n",
              "    <tr>\n",
              "      <th>...</th>\n",
              "      <td>...</td>\n",
              "      <td>...</td>\n",
              "      <td>...</td>\n",
              "      <td>...</td>\n",
              "      <td>...</td>\n",
              "      <td>...</td>\n",
              "      <td>...</td>\n",
              "      <td>...</td>\n",
              "      <td>...</td>\n",
              "      <td>...</td>\n",
              "      <td>...</td>\n",
              "      <td>...</td>\n",
              "      <td>...</td>\n",
              "      <td>...</td>\n",
              "      <td>...</td>\n",
              "    </tr>\n",
              "    <tr>\n",
              "      <th>5271</th>\n",
              "      <td>72</td>\n",
              "      <td>68</td>\n",
              "      <td>1</td>\n",
              "      <td>5</td>\n",
              "      <td>0.89</td>\n",
              "      <td>0.72</td>\n",
              "      <td>0.62</td>\n",
              "      <td>1.33</td>\n",
              "      <td>2.36</td>\n",
              "      <td>2.38342</td>\n",
              "      <td>1.745600</td>\n",
              "      <td>-1.572214</td>\n",
              "      <td>0.801621</td>\n",
              "      <td>0.442857</td>\n",
              "      <td>0</td>\n",
              "    </tr>\n",
              "    <tr>\n",
              "      <th>5272</th>\n",
              "      <td>72</td>\n",
              "      <td>69</td>\n",
              "      <td>0</td>\n",
              "      <td>0</td>\n",
              "      <td>0.89</td>\n",
              "      <td>0.72</td>\n",
              "      <td>0.90</td>\n",
              "      <td>1.33</td>\n",
              "      <td>1.22</td>\n",
              "      <td>2.38342</td>\n",
              "      <td>2.235124</td>\n",
              "      <td>-2.489571</td>\n",
              "      <td>0.704032</td>\n",
              "      <td>0.642857</td>\n",
              "      <td>0</td>\n",
              "    </tr>\n",
              "    <tr>\n",
              "      <th>5273</th>\n",
              "      <td>72</td>\n",
              "      <td>70</td>\n",
              "      <td>0</td>\n",
              "      <td>0</td>\n",
              "      <td>0.89</td>\n",
              "      <td>0.72</td>\n",
              "      <td>0.95</td>\n",
              "      <td>1.33</td>\n",
              "      <td>1.10</td>\n",
              "      <td>2.38342</td>\n",
              "      <td>2.223981</td>\n",
              "      <td>-2.626821</td>\n",
              "      <td>0.689053</td>\n",
              "      <td>0.678571</td>\n",
              "      <td>1</td>\n",
              "    </tr>\n",
              "    <tr>\n",
              "      <th>5274</th>\n",
              "      <td>72</td>\n",
              "      <td>71</td>\n",
              "      <td>0</td>\n",
              "      <td>0</td>\n",
              "      <td>0.89</td>\n",
              "      <td>0.72</td>\n",
              "      <td>0.74</td>\n",
              "      <td>1.33</td>\n",
              "      <td>1.65</td>\n",
              "      <td>2.38342</td>\n",
              "      <td>2.096141</td>\n",
              "      <td>-2.035750</td>\n",
              "      <td>0.756670</td>\n",
              "      <td>0.528571</td>\n",
              "      <td>0</td>\n",
              "    </tr>\n",
              "    <tr>\n",
              "      <th>5275</th>\n",
              "      <td>72</td>\n",
              "      <td>72</td>\n",
              "      <td>0</td>\n",
              "      <td>0</td>\n",
              "      <td>0.89</td>\n",
              "      <td>0.72</td>\n",
              "      <td>0.72</td>\n",
              "      <td>1.33</td>\n",
              "      <td>1.33</td>\n",
              "      <td>2.38342</td>\n",
              "      <td>2.043778</td>\n",
              "      <td>-2.097821</td>\n",
              "      <td>0.763809</td>\n",
              "      <td>0.514286</td>\n",
              "      <td>0</td>\n",
              "    </tr>\n",
              "  </tbody>\n",
              "</table>\n",
              "<p>5276 rows × 15 columns</p>\n",
              "</div>\n",
              "      <button class=\"colab-df-convert\" onclick=\"convertToInteractive('df-3835adb2-4894-48e2-a551-6811b0033d32')\"\n",
              "              title=\"Convert this dataframe to an interactive table.\"\n",
              "              style=\"display:none;\">\n",
              "        \n",
              "  <svg xmlns=\"http://www.w3.org/2000/svg\" height=\"24px\"viewBox=\"0 0 24 24\"\n",
              "       width=\"24px\">\n",
              "    <path d=\"M0 0h24v24H0V0z\" fill=\"none\"/>\n",
              "    <path d=\"M18.56 5.44l.94 2.06.94-2.06 2.06-.94-2.06-.94-.94-2.06-.94 2.06-2.06.94zm-11 1L8.5 8.5l.94-2.06 2.06-.94-2.06-.94L8.5 2.5l-.94 2.06-2.06.94zm10 10l.94 2.06.94-2.06 2.06-.94-2.06-.94-.94-2.06-.94 2.06-2.06.94z\"/><path d=\"M17.41 7.96l-1.37-1.37c-.4-.4-.92-.59-1.43-.59-.52 0-1.04.2-1.43.59L10.3 9.45l-7.72 7.72c-.78.78-.78 2.05 0 2.83L4 21.41c.39.39.9.59 1.41.59.51 0 1.02-.2 1.41-.59l7.78-7.78 2.81-2.81c.8-.78.8-2.07 0-2.86zM5.41 20L4 18.59l7.72-7.72 1.47 1.35L5.41 20z\"/>\n",
              "  </svg>\n",
              "      </button>\n",
              "      \n",
              "  <style>\n",
              "    .colab-df-container {\n",
              "      display:flex;\n",
              "      flex-wrap:wrap;\n",
              "      gap: 12px;\n",
              "    }\n",
              "\n",
              "    .colab-df-convert {\n",
              "      background-color: #E8F0FE;\n",
              "      border: none;\n",
              "      border-radius: 50%;\n",
              "      cursor: pointer;\n",
              "      display: none;\n",
              "      fill: #1967D2;\n",
              "      height: 32px;\n",
              "      padding: 0 0 0 0;\n",
              "      width: 32px;\n",
              "    }\n",
              "\n",
              "    .colab-df-convert:hover {\n",
              "      background-color: #E2EBFA;\n",
              "      box-shadow: 0px 1px 2px rgba(60, 64, 67, 0.3), 0px 1px 3px 1px rgba(60, 64, 67, 0.15);\n",
              "      fill: #174EA6;\n",
              "    }\n",
              "\n",
              "    [theme=dark] .colab-df-convert {\n",
              "      background-color: #3B4455;\n",
              "      fill: #D2E3FC;\n",
              "    }\n",
              "\n",
              "    [theme=dark] .colab-df-convert:hover {\n",
              "      background-color: #434B5C;\n",
              "      box-shadow: 0px 1px 3px 1px rgba(0, 0, 0, 0.15);\n",
              "      filter: drop-shadow(0px 1px 2px rgba(0, 0, 0, 0.3));\n",
              "      fill: #FFFFFF;\n",
              "    }\n",
              "  </style>\n",
              "\n",
              "      <script>\n",
              "        const buttonEl =\n",
              "          document.querySelector('#df-3835adb2-4894-48e2-a551-6811b0033d32 button.colab-df-convert');\n",
              "        buttonEl.style.display =\n",
              "          google.colab.kernel.accessAllowed ? 'block' : 'none';\n",
              "\n",
              "        async function convertToInteractive(key) {\n",
              "          const element = document.querySelector('#df-3835adb2-4894-48e2-a551-6811b0033d32');\n",
              "          const dataTable =\n",
              "            await google.colab.kernel.invokeFunction('convertToInteractive',\n",
              "                                                     [key], {});\n",
              "          if (!dataTable) return;\n",
              "\n",
              "          const docLinkHtml = 'Like what you see? Visit the ' +\n",
              "            '<a target=\"_blank\" href=https://colab.research.google.com/notebooks/data_table.ipynb>data table notebook</a>'\n",
              "            + ' to learn more about interactive tables.';\n",
              "          element.innerHTML = '';\n",
              "          dataTable['output_type'] = 'display_data';\n",
              "          await google.colab.output.renderOutput(dataTable, element);\n",
              "          const docLink = document.createElement('div');\n",
              "          docLink.innerHTML = docLinkHtml;\n",
              "          element.appendChild(docLink);\n",
              "        }\n",
              "      </script>\n",
              "    </div>\n",
              "  </div>\n",
              "  "
            ]
          },
          "metadata": {},
          "execution_count": 38
        }
      ]
    },
    {
      "cell_type": "markdown",
      "metadata": {
        "id": "3rSzZlfbHjHX"
      },
      "source": [
        "### 2. Обучение модели\n"
      ]
    },
    {
      "cell_type": "markdown",
      "metadata": {
        "id": "c_e-_iOFHjHX"
      },
      "source": [
        "Создайте массив признаков и массив таргета."
      ]
    },
    {
      "cell_type": "code",
      "execution_count": null,
      "metadata": {
        "colab": {
          "base_uri": "https://localhost:8080/"
        },
        "id": "m0Yrw-FAHjHX",
        "outputId": "0f84b0d6-fc55-492c-ff99-228864ebe5af"
      },
      "outputs": [
        {
          "output_type": "execute_result",
          "data": {
            "text/plain": [
              "array([0, 1, 2, 3])"
            ]
          },
          "metadata": {},
          "execution_count": 39
        }
      ],
      "source": [
        "X = data.loc[:, data.columns != 'Lowest distortion']\n",
        "y = data['Lowest distortion']\n",
        "np.unique(y)"
      ]
    },
    {
      "cell_type": "markdown",
      "metadata": {
        "id": "sZNOBsW1HjHY"
      },
      "source": [
        "Обучите модель решающего дерева."
      ]
    },
    {
      "cell_type": "code",
      "execution_count": null,
      "metadata": {
        "id": "TNL5kl-BHjHY"
      },
      "outputs": [],
      "source": [
        "X_train, X_test, y_train, y_test = train_test_split(\n",
        "    X, y, test_size=0.3, random_state=77\n",
        ")"
      ]
    },
    {
      "cell_type": "markdown",
      "metadata": {
        "id": "bb0UwZDlHjHY"
      },
      "source": [
        "Сделайте предсказание для тестовой выборки."
      ]
    },
    {
      "cell_type": "code",
      "execution_count": null,
      "metadata": {
        "vscode": {
          "languageId": "plaintext"
        },
        "id": "ZjGzIbE7HjHY"
      },
      "outputs": [],
      "source": [
        "clf = DecisionTreeClassifier(random_state=42)\n",
        "clf.fit(X_train,y_train)\n",
        "y_pred = clf.predict(X_test)"
      ]
    },
    {
      "cell_type": "markdown",
      "metadata": {
        "id": "XQ5SQY5-HjHY"
      },
      "source": [
        "Создайте массив, показывающий успех или не успех модели (1 если модель угадала класс, 0 если не угадала)."
      ]
    },
    {
      "cell_type": "code",
      "execution_count": null,
      "metadata": {
        "colab": {
          "base_uri": "https://localhost:8080/"
        },
        "id": "yRxsM_XLHjHY",
        "outputId": "b340dc35-b75e-4ba6-f577-b592cce20d77"
      },
      "outputs": [
        {
          "output_type": "execute_result",
          "data": {
            "text/plain": [
              "array([1, 1, 1, ..., 0, 1, 1], dtype=int16)"
            ]
          },
          "metadata": {},
          "execution_count": 53
        }
      ],
      "source": [
        "bernouli = (y_pred == y_test.to_numpy()).astype(np.int16)\n",
        "bernouli"
      ]
    },
    {
      "cell_type": "markdown",
      "metadata": {
        "id": "tDdiccnCHjHY"
      },
      "source": [
        "Вы получили выборку из распределения $Bern(\\theta)$. Постройте доверительный интервал для $\\theta$."
      ]
    },
    {
      "cell_type": "code",
      "execution_count": null,
      "metadata": {
        "colab": {
          "base_uri": "https://localhost:8080/"
        },
        "id": "UhIXxJP2HjHZ",
        "outputId": "4419ef22-36f6-420c-cffb-e8d1eaa74185"
      },
      "outputs": [
        {
          "output_type": "stream",
          "name": "stdout",
          "text": [
            "0.6660093641929329 0.7237569023895055\n"
          ]
        }
      ],
      "source": [
        "z = sps.norm.ppf(1 - 0.95 / 2)\n",
        "m, n = sum(bernouli), len(bernouli)\n",
        "left = m/n - z * np.sqrt(m * (n - m) / np.power(n, 2))\n",
        "right = m/n + z * np.sqrt(m * (n - m) / np.power(n, 2))\n",
        "print(left, right)"
      ]
    },
    {
      "cell_type": "markdown",
      "metadata": {
        "id": "xKCYwrygHjHZ"
      },
      "source": [
        "Повторите все шаги для случайного леса. Сравните полученные интервалы."
      ]
    },
    {
      "cell_type": "code",
      "execution_count": null,
      "metadata": {
        "colab": {
          "base_uri": "https://localhost:8080/",
          "height": 74
        },
        "id": "yyg7FLWjHjHZ",
        "outputId": "aeb85093-38ca-4c4d-fba1-8d9bb4013976"
      },
      "outputs": [
        {
          "output_type": "execute_result",
          "data": {
            "text/plain": [
              "RandomForestClassifier(n_estimators=50)"
            ],
            "text/html": [
              "<style>#sk-container-id-6 {color: black;background-color: white;}#sk-container-id-6 pre{padding: 0;}#sk-container-id-6 div.sk-toggleable {background-color: white;}#sk-container-id-6 label.sk-toggleable__label {cursor: pointer;display: block;width: 100%;margin-bottom: 0;padding: 0.3em;box-sizing: border-box;text-align: center;}#sk-container-id-6 label.sk-toggleable__label-arrow:before {content: \"▸\";float: left;margin-right: 0.25em;color: #696969;}#sk-container-id-6 label.sk-toggleable__label-arrow:hover:before {color: black;}#sk-container-id-6 div.sk-estimator:hover label.sk-toggleable__label-arrow:before {color: black;}#sk-container-id-6 div.sk-toggleable__content {max-height: 0;max-width: 0;overflow: hidden;text-align: left;background-color: #f0f8ff;}#sk-container-id-6 div.sk-toggleable__content pre {margin: 0.2em;color: black;border-radius: 0.25em;background-color: #f0f8ff;}#sk-container-id-6 input.sk-toggleable__control:checked~div.sk-toggleable__content {max-height: 200px;max-width: 100%;overflow: auto;}#sk-container-id-6 input.sk-toggleable__control:checked~label.sk-toggleable__label-arrow:before {content: \"▾\";}#sk-container-id-6 div.sk-estimator input.sk-toggleable__control:checked~label.sk-toggleable__label {background-color: #d4ebff;}#sk-container-id-6 div.sk-label input.sk-toggleable__control:checked~label.sk-toggleable__label {background-color: #d4ebff;}#sk-container-id-6 input.sk-hidden--visually {border: 0;clip: rect(1px 1px 1px 1px);clip: rect(1px, 1px, 1px, 1px);height: 1px;margin: -1px;overflow: hidden;padding: 0;position: absolute;width: 1px;}#sk-container-id-6 div.sk-estimator {font-family: monospace;background-color: #f0f8ff;border: 1px dotted black;border-radius: 0.25em;box-sizing: border-box;margin-bottom: 0.5em;}#sk-container-id-6 div.sk-estimator:hover {background-color: #d4ebff;}#sk-container-id-6 div.sk-parallel-item::after {content: \"\";width: 100%;border-bottom: 1px solid gray;flex-grow: 1;}#sk-container-id-6 div.sk-label:hover label.sk-toggleable__label {background-color: #d4ebff;}#sk-container-id-6 div.sk-serial::before {content: \"\";position: absolute;border-left: 1px solid gray;box-sizing: border-box;top: 0;bottom: 0;left: 50%;z-index: 0;}#sk-container-id-6 div.sk-serial {display: flex;flex-direction: column;align-items: center;background-color: white;padding-right: 0.2em;padding-left: 0.2em;position: relative;}#sk-container-id-6 div.sk-item {position: relative;z-index: 1;}#sk-container-id-6 div.sk-parallel {display: flex;align-items: stretch;justify-content: center;background-color: white;position: relative;}#sk-container-id-6 div.sk-item::before, #sk-container-id-6 div.sk-parallel-item::before {content: \"\";position: absolute;border-left: 1px solid gray;box-sizing: border-box;top: 0;bottom: 0;left: 50%;z-index: -1;}#sk-container-id-6 div.sk-parallel-item {display: flex;flex-direction: column;z-index: 1;position: relative;background-color: white;}#sk-container-id-6 div.sk-parallel-item:first-child::after {align-self: flex-end;width: 50%;}#sk-container-id-6 div.sk-parallel-item:last-child::after {align-self: flex-start;width: 50%;}#sk-container-id-6 div.sk-parallel-item:only-child::after {width: 0;}#sk-container-id-6 div.sk-dashed-wrapped {border: 1px dashed gray;margin: 0 0.4em 0.5em 0.4em;box-sizing: border-box;padding-bottom: 0.4em;background-color: white;}#sk-container-id-6 div.sk-label label {font-family: monospace;font-weight: bold;display: inline-block;line-height: 1.2em;}#sk-container-id-6 div.sk-label-container {text-align: center;}#sk-container-id-6 div.sk-container {/* jupyter's `normalize.less` sets `[hidden] { display: none; }` but bootstrap.min.css set `[hidden] { display: none !important; }` so we also need the `!important` here to be able to override the default hidden behavior on the sphinx rendered scikit-learn.org. See: https://github.com/scikit-learn/scikit-learn/issues/21755 */display: inline-block !important;position: relative;}#sk-container-id-6 div.sk-text-repr-fallback {display: none;}</style><div id=\"sk-container-id-6\" class=\"sk-top-container\"><div class=\"sk-text-repr-fallback\"><pre>RandomForestClassifier(n_estimators=50)</pre><b>In a Jupyter environment, please rerun this cell to show the HTML representation or trust the notebook. <br />On GitHub, the HTML representation is unable to render, please try loading this page with nbviewer.org.</b></div><div class=\"sk-container\" hidden><div class=\"sk-item\"><div class=\"sk-estimator sk-toggleable\"><input class=\"sk-toggleable__control sk-hidden--visually\" id=\"sk-estimator-id-6\" type=\"checkbox\" checked><label for=\"sk-estimator-id-6\" class=\"sk-toggleable__label sk-toggleable__label-arrow\">RandomForestClassifier</label><div class=\"sk-toggleable__content\"><pre>RandomForestClassifier(n_estimators=50)</pre></div></div></div></div></div>"
            ]
          },
          "metadata": {},
          "execution_count": 71
        }
      ],
      "source": [
        "n_estimators = 50\n",
        "model = RandomForestClassifier(n_estimators=n_estimators)\n",
        "model.fit(X_train, y_train)"
      ]
    },
    {
      "cell_type": "code",
      "source": [
        "y_pred=model.predict(X_test)\n",
        "bernouli = (y_pred == y_test.to_numpy()).astype(np.int16)\n",
        "bernouli"
      ],
      "metadata": {
        "colab": {
          "base_uri": "https://localhost:8080/"
        },
        "id": "ftvC3rVLgVQl",
        "outputId": "44f1ab21-676e-47c6-ceae-9cd4e3fb7791"
      },
      "execution_count": null,
      "outputs": [
        {
          "output_type": "execute_result",
          "data": {
            "text/plain": [
              "array([1, 1, 1, ..., 0, 1, 1], dtype=int16)"
            ]
          },
          "metadata": {},
          "execution_count": 72
        }
      ]
    },
    {
      "cell_type": "code",
      "source": [
        "z = sps.norm.ppf(1 - 0.95 / 2)\n",
        "m, n = sum(bernouli), len(bernouli)\n",
        "left = m/n - z * np.sqrt(m * (n - m) / np.power(n, 2))\n",
        "right = m/n + z * np.sqrt(m * (n - m) / np.power(n, 2))\n",
        "print(left, right)"
      ],
      "metadata": {
        "colab": {
          "base_uri": "https://localhost:8080/"
        },
        "id": "phX9ZAsTgeyt",
        "outputId": "ff53c32a-99b2-434b-cec9-510182db3cab"
      },
      "execution_count": null,
      "outputs": [
        {
          "output_type": "stream",
          "name": "stdout",
          "text": [
            "0.7621037011186784 0.8133858756343222\n"
          ]
        }
      ]
    },
    {
      "cell_type": "markdown",
      "metadata": {
        "id": "ecDX6i9dHjHZ"
      },
      "source": [
        "**Выводы:**Вероятность предсказание лежит в интервале (0.76,0,81) - вероятность стала лучше\n"
      ]
    },
    {
      "cell_type": "markdown",
      "metadata": {
        "id": "38tRdZfQHjHZ"
      },
      "source": [
        "## Задача 3\n",
        "\n",
        "Рассмотрим данные из <a href='https://miptstats.github.io/courses/ad_mipt/hw8.html' target=\"_blank\">предыдущего домашнего задания</a>. Скачайте данные и разделите их на три части &mdash; обучающую, валидационную и тестовую в соотношении 3:1:1."
      ]
    },
    {
      "cell_type": "markdown",
      "metadata": {
        "id": "S6jb6z7gHjHa"
      },
      "source": [
        "Выполните необходимые преобразования признаков.\n",
        "\n",
        "*Замечание.* Если в валидационной и/или тестовой частях есть \"большие\" выбросы, их стоит убрать. Наша модель не должна пытаться их предсказать, но в то же время выбросы вносят существенный вклад в значение метрики."
      ]
    },
    {
      "cell_type": "code",
      "execution_count": null,
      "metadata": {
        "colab": {
          "base_uri": "https://localhost:8080/",
          "height": 373
        },
        "id": "31TQweRNHjHa",
        "outputId": "47084bba-c5ba-4e29-ec81-d7e920cd65dd"
      },
      "outputs": [
        {
          "output_type": "display_data",
          "data": {
            "text/plain": [
              "<IPython.core.display.HTML object>"
            ],
            "text/html": [
              "\n",
              "     <input type=\"file\" id=\"files-54ff413b-9c07-4a09-82ef-155cb190ccd3\" name=\"files[]\" multiple disabled\n",
              "        style=\"border:none\" />\n",
              "     <output id=\"result-54ff413b-9c07-4a09-82ef-155cb190ccd3\">\n",
              "      Upload widget is only available when the cell has been executed in the\n",
              "      current browser session. Please rerun this cell to enable.\n",
              "      </output>\n",
              "      <script>// Copyright 2017 Google LLC\n",
              "//\n",
              "// Licensed under the Apache License, Version 2.0 (the \"License\");\n",
              "// you may not use this file except in compliance with the License.\n",
              "// You may obtain a copy of the License at\n",
              "//\n",
              "//      http://www.apache.org/licenses/LICENSE-2.0\n",
              "//\n",
              "// Unless required by applicable law or agreed to in writing, software\n",
              "// distributed under the License is distributed on an \"AS IS\" BASIS,\n",
              "// WITHOUT WARRANTIES OR CONDITIONS OF ANY KIND, either express or implied.\n",
              "// See the License for the specific language governing permissions and\n",
              "// limitations under the License.\n",
              "\n",
              "/**\n",
              " * @fileoverview Helpers for google.colab Python module.\n",
              " */\n",
              "(function(scope) {\n",
              "function span(text, styleAttributes = {}) {\n",
              "  const element = document.createElement('span');\n",
              "  element.textContent = text;\n",
              "  for (const key of Object.keys(styleAttributes)) {\n",
              "    element.style[key] = styleAttributes[key];\n",
              "  }\n",
              "  return element;\n",
              "}\n",
              "\n",
              "// Max number of bytes which will be uploaded at a time.\n",
              "const MAX_PAYLOAD_SIZE = 100 * 1024;\n",
              "\n",
              "function _uploadFiles(inputId, outputId) {\n",
              "  const steps = uploadFilesStep(inputId, outputId);\n",
              "  const outputElement = document.getElementById(outputId);\n",
              "  // Cache steps on the outputElement to make it available for the next call\n",
              "  // to uploadFilesContinue from Python.\n",
              "  outputElement.steps = steps;\n",
              "\n",
              "  return _uploadFilesContinue(outputId);\n",
              "}\n",
              "\n",
              "// This is roughly an async generator (not supported in the browser yet),\n",
              "// where there are multiple asynchronous steps and the Python side is going\n",
              "// to poll for completion of each step.\n",
              "// This uses a Promise to block the python side on completion of each step,\n",
              "// then passes the result of the previous step as the input to the next step.\n",
              "function _uploadFilesContinue(outputId) {\n",
              "  const outputElement = document.getElementById(outputId);\n",
              "  const steps = outputElement.steps;\n",
              "\n",
              "  const next = steps.next(outputElement.lastPromiseValue);\n",
              "  return Promise.resolve(next.value.promise).then((value) => {\n",
              "    // Cache the last promise value to make it available to the next\n",
              "    // step of the generator.\n",
              "    outputElement.lastPromiseValue = value;\n",
              "    return next.value.response;\n",
              "  });\n",
              "}\n",
              "\n",
              "/**\n",
              " * Generator function which is called between each async step of the upload\n",
              " * process.\n",
              " * @param {string} inputId Element ID of the input file picker element.\n",
              " * @param {string} outputId Element ID of the output display.\n",
              " * @return {!Iterable<!Object>} Iterable of next steps.\n",
              " */\n",
              "function* uploadFilesStep(inputId, outputId) {\n",
              "  const inputElement = document.getElementById(inputId);\n",
              "  inputElement.disabled = false;\n",
              "\n",
              "  const outputElement = document.getElementById(outputId);\n",
              "  outputElement.innerHTML = '';\n",
              "\n",
              "  const pickedPromise = new Promise((resolve) => {\n",
              "    inputElement.addEventListener('change', (e) => {\n",
              "      resolve(e.target.files);\n",
              "    });\n",
              "  });\n",
              "\n",
              "  const cancel = document.createElement('button');\n",
              "  inputElement.parentElement.appendChild(cancel);\n",
              "  cancel.textContent = 'Cancel upload';\n",
              "  const cancelPromise = new Promise((resolve) => {\n",
              "    cancel.onclick = () => {\n",
              "      resolve(null);\n",
              "    };\n",
              "  });\n",
              "\n",
              "  // Wait for the user to pick the files.\n",
              "  const files = yield {\n",
              "    promise: Promise.race([pickedPromise, cancelPromise]),\n",
              "    response: {\n",
              "      action: 'starting',\n",
              "    }\n",
              "  };\n",
              "\n",
              "  cancel.remove();\n",
              "\n",
              "  // Disable the input element since further picks are not allowed.\n",
              "  inputElement.disabled = true;\n",
              "\n",
              "  if (!files) {\n",
              "    return {\n",
              "      response: {\n",
              "        action: 'complete',\n",
              "      }\n",
              "    };\n",
              "  }\n",
              "\n",
              "  for (const file of files) {\n",
              "    const li = document.createElement('li');\n",
              "    li.append(span(file.name, {fontWeight: 'bold'}));\n",
              "    li.append(span(\n",
              "        `(${file.type || 'n/a'}) - ${file.size} bytes, ` +\n",
              "        `last modified: ${\n",
              "            file.lastModifiedDate ? file.lastModifiedDate.toLocaleDateString() :\n",
              "                                    'n/a'} - `));\n",
              "    const percent = span('0% done');\n",
              "    li.appendChild(percent);\n",
              "\n",
              "    outputElement.appendChild(li);\n",
              "\n",
              "    const fileDataPromise = new Promise((resolve) => {\n",
              "      const reader = new FileReader();\n",
              "      reader.onload = (e) => {\n",
              "        resolve(e.target.result);\n",
              "      };\n",
              "      reader.readAsArrayBuffer(file);\n",
              "    });\n",
              "    // Wait for the data to be ready.\n",
              "    let fileData = yield {\n",
              "      promise: fileDataPromise,\n",
              "      response: {\n",
              "        action: 'continue',\n",
              "      }\n",
              "    };\n",
              "\n",
              "    // Use a chunked sending to avoid message size limits. See b/62115660.\n",
              "    let position = 0;\n",
              "    do {\n",
              "      const length = Math.min(fileData.byteLength - position, MAX_PAYLOAD_SIZE);\n",
              "      const chunk = new Uint8Array(fileData, position, length);\n",
              "      position += length;\n",
              "\n",
              "      const base64 = btoa(String.fromCharCode.apply(null, chunk));\n",
              "      yield {\n",
              "        response: {\n",
              "          action: 'append',\n",
              "          file: file.name,\n",
              "          data: base64,\n",
              "        },\n",
              "      };\n",
              "\n",
              "      let percentDone = fileData.byteLength === 0 ?\n",
              "          100 :\n",
              "          Math.round((position / fileData.byteLength) * 100);\n",
              "      percent.textContent = `${percentDone}% done`;\n",
              "\n",
              "    } while (position < fileData.byteLength);\n",
              "  }\n",
              "\n",
              "  // All done.\n",
              "  yield {\n",
              "    response: {\n",
              "      action: 'complete',\n",
              "    }\n",
              "  };\n",
              "}\n",
              "\n",
              "scope.google = scope.google || {};\n",
              "scope.google.colab = scope.google.colab || {};\n",
              "scope.google.colab._files = {\n",
              "  _uploadFiles,\n",
              "  _uploadFilesContinue,\n",
              "};\n",
              "})(self);\n",
              "</script> "
            ]
          },
          "metadata": {}
        },
        {
          "output_type": "stream",
          "name": "stdout",
          "text": [
            "Saving physics_data.csv to physics_data (2).csv\n"
          ]
        },
        {
          "output_type": "execute_result",
          "data": {
            "text/plain": [
              "   Unnamed: 0          0          1          2          3          4  \\\n",
              "0           0 -54.825075  -0.835719  45.240515 -22.585658   1.450320   \n",
              "1           1 -34.039832  24.930703  -7.485562  40.737762  21.400170   \n",
              "2           2 -58.794258 -49.823448 -35.062080   1.698937 -18.012227   \n",
              "3           3 -38.508716  19.211767  -4.858507  10.484105  16.622411   \n",
              "4           4 -45.432604 -23.951574 -55.340413  -7.879883 -16.304009   \n",
              "\n",
              "           5          6          7          8  ...       292       293  \\\n",
              "0 -16.223986  12.376342  13.424011  -4.923189  ... -0.023466 -0.066633   \n",
              "1  15.280596   4.467203 -19.296032  -0.433598  ... -0.000419  0.003369   \n",
              "2  12.523468   9.210336   7.488163  11.392693  ... -0.003377 -0.003500   \n",
              "3 -22.131178 -14.876963  -5.516521  13.793978  ... -0.001423 -0.000576   \n",
              "4  13.340896  11.326496   6.784151  11.208725  ...  0.008307 -0.003005   \n",
              "\n",
              "        294       295       296       297       298       299  pubchem_id  \\\n",
              "0  0.030779 -0.036064 -0.008572  0.011805 -0.036215  0.052180       25004   \n",
              "1 -0.000641 -0.001035  0.012597  0.004377  0.004023  0.003356       25005   \n",
              "2  0.002734 -0.001017  0.004774  0.012796  0.022270  0.008051       25006   \n",
              "3  0.011144 -0.007253 -0.006700 -0.007940  0.022492 -0.007016       25009   \n",
              "4  0.000816 -0.000938  0.001135 -0.005256  0.001042  0.002651       25011   \n",
              "\n",
              "         Eat  \n",
              "0 -19.013763  \n",
              "1 -10.161019  \n",
              "2  -9.376619  \n",
              "3 -13.776438  \n",
              "4  -8.537140  \n",
              "\n",
              "[5 rows x 303 columns]"
            ],
            "text/html": [
              "\n",
              "  <div id=\"df-cae55b99-d2ee-427d-8362-a58edee49b1e\">\n",
              "    <div class=\"colab-df-container\">\n",
              "      <div>\n",
              "<style scoped>\n",
              "    .dataframe tbody tr th:only-of-type {\n",
              "        vertical-align: middle;\n",
              "    }\n",
              "\n",
              "    .dataframe tbody tr th {\n",
              "        vertical-align: top;\n",
              "    }\n",
              "\n",
              "    .dataframe thead th {\n",
              "        text-align: right;\n",
              "    }\n",
              "</style>\n",
              "<table border=\"1\" class=\"dataframe\">\n",
              "  <thead>\n",
              "    <tr style=\"text-align: right;\">\n",
              "      <th></th>\n",
              "      <th>Unnamed: 0</th>\n",
              "      <th>0</th>\n",
              "      <th>1</th>\n",
              "      <th>2</th>\n",
              "      <th>3</th>\n",
              "      <th>4</th>\n",
              "      <th>5</th>\n",
              "      <th>6</th>\n",
              "      <th>7</th>\n",
              "      <th>8</th>\n",
              "      <th>...</th>\n",
              "      <th>292</th>\n",
              "      <th>293</th>\n",
              "      <th>294</th>\n",
              "      <th>295</th>\n",
              "      <th>296</th>\n",
              "      <th>297</th>\n",
              "      <th>298</th>\n",
              "      <th>299</th>\n",
              "      <th>pubchem_id</th>\n",
              "      <th>Eat</th>\n",
              "    </tr>\n",
              "  </thead>\n",
              "  <tbody>\n",
              "    <tr>\n",
              "      <th>0</th>\n",
              "      <td>0</td>\n",
              "      <td>-54.825075</td>\n",
              "      <td>-0.835719</td>\n",
              "      <td>45.240515</td>\n",
              "      <td>-22.585658</td>\n",
              "      <td>1.450320</td>\n",
              "      <td>-16.223986</td>\n",
              "      <td>12.376342</td>\n",
              "      <td>13.424011</td>\n",
              "      <td>-4.923189</td>\n",
              "      <td>...</td>\n",
              "      <td>-0.023466</td>\n",
              "      <td>-0.066633</td>\n",
              "      <td>0.030779</td>\n",
              "      <td>-0.036064</td>\n",
              "      <td>-0.008572</td>\n",
              "      <td>0.011805</td>\n",
              "      <td>-0.036215</td>\n",
              "      <td>0.052180</td>\n",
              "      <td>25004</td>\n",
              "      <td>-19.013763</td>\n",
              "    </tr>\n",
              "    <tr>\n",
              "      <th>1</th>\n",
              "      <td>1</td>\n",
              "      <td>-34.039832</td>\n",
              "      <td>24.930703</td>\n",
              "      <td>-7.485562</td>\n",
              "      <td>40.737762</td>\n",
              "      <td>21.400170</td>\n",
              "      <td>15.280596</td>\n",
              "      <td>4.467203</td>\n",
              "      <td>-19.296032</td>\n",
              "      <td>-0.433598</td>\n",
              "      <td>...</td>\n",
              "      <td>-0.000419</td>\n",
              "      <td>0.003369</td>\n",
              "      <td>-0.000641</td>\n",
              "      <td>-0.001035</td>\n",
              "      <td>0.012597</td>\n",
              "      <td>0.004377</td>\n",
              "      <td>0.004023</td>\n",
              "      <td>0.003356</td>\n",
              "      <td>25005</td>\n",
              "      <td>-10.161019</td>\n",
              "    </tr>\n",
              "    <tr>\n",
              "      <th>2</th>\n",
              "      <td>2</td>\n",
              "      <td>-58.794258</td>\n",
              "      <td>-49.823448</td>\n",
              "      <td>-35.062080</td>\n",
              "      <td>1.698937</td>\n",
              "      <td>-18.012227</td>\n",
              "      <td>12.523468</td>\n",
              "      <td>9.210336</td>\n",
              "      <td>7.488163</td>\n",
              "      <td>11.392693</td>\n",
              "      <td>...</td>\n",
              "      <td>-0.003377</td>\n",
              "      <td>-0.003500</td>\n",
              "      <td>0.002734</td>\n",
              "      <td>-0.001017</td>\n",
              "      <td>0.004774</td>\n",
              "      <td>0.012796</td>\n",
              "      <td>0.022270</td>\n",
              "      <td>0.008051</td>\n",
              "      <td>25006</td>\n",
              "      <td>-9.376619</td>\n",
              "    </tr>\n",
              "    <tr>\n",
              "      <th>3</th>\n",
              "      <td>3</td>\n",
              "      <td>-38.508716</td>\n",
              "      <td>19.211767</td>\n",
              "      <td>-4.858507</td>\n",
              "      <td>10.484105</td>\n",
              "      <td>16.622411</td>\n",
              "      <td>-22.131178</td>\n",
              "      <td>-14.876963</td>\n",
              "      <td>-5.516521</td>\n",
              "      <td>13.793978</td>\n",
              "      <td>...</td>\n",
              "      <td>-0.001423</td>\n",
              "      <td>-0.000576</td>\n",
              "      <td>0.011144</td>\n",
              "      <td>-0.007253</td>\n",
              "      <td>-0.006700</td>\n",
              "      <td>-0.007940</td>\n",
              "      <td>0.022492</td>\n",
              "      <td>-0.007016</td>\n",
              "      <td>25009</td>\n",
              "      <td>-13.776438</td>\n",
              "    </tr>\n",
              "    <tr>\n",
              "      <th>4</th>\n",
              "      <td>4</td>\n",
              "      <td>-45.432604</td>\n",
              "      <td>-23.951574</td>\n",
              "      <td>-55.340413</td>\n",
              "      <td>-7.879883</td>\n",
              "      <td>-16.304009</td>\n",
              "      <td>13.340896</td>\n",
              "      <td>11.326496</td>\n",
              "      <td>6.784151</td>\n",
              "      <td>11.208725</td>\n",
              "      <td>...</td>\n",
              "      <td>0.008307</td>\n",
              "      <td>-0.003005</td>\n",
              "      <td>0.000816</td>\n",
              "      <td>-0.000938</td>\n",
              "      <td>0.001135</td>\n",
              "      <td>-0.005256</td>\n",
              "      <td>0.001042</td>\n",
              "      <td>0.002651</td>\n",
              "      <td>25011</td>\n",
              "      <td>-8.537140</td>\n",
              "    </tr>\n",
              "  </tbody>\n",
              "</table>\n",
              "<p>5 rows × 303 columns</p>\n",
              "</div>\n",
              "      <button class=\"colab-df-convert\" onclick=\"convertToInteractive('df-cae55b99-d2ee-427d-8362-a58edee49b1e')\"\n",
              "              title=\"Convert this dataframe to an interactive table.\"\n",
              "              style=\"display:none;\">\n",
              "        \n",
              "  <svg xmlns=\"http://www.w3.org/2000/svg\" height=\"24px\"viewBox=\"0 0 24 24\"\n",
              "       width=\"24px\">\n",
              "    <path d=\"M0 0h24v24H0V0z\" fill=\"none\"/>\n",
              "    <path d=\"M18.56 5.44l.94 2.06.94-2.06 2.06-.94-2.06-.94-.94-2.06-.94 2.06-2.06.94zm-11 1L8.5 8.5l.94-2.06 2.06-.94-2.06-.94L8.5 2.5l-.94 2.06-2.06.94zm10 10l.94 2.06.94-2.06 2.06-.94-2.06-.94-.94-2.06-.94 2.06-2.06.94z\"/><path d=\"M17.41 7.96l-1.37-1.37c-.4-.4-.92-.59-1.43-.59-.52 0-1.04.2-1.43.59L10.3 9.45l-7.72 7.72c-.78.78-.78 2.05 0 2.83L4 21.41c.39.39.9.59 1.41.59.51 0 1.02-.2 1.41-.59l7.78-7.78 2.81-2.81c.8-.78.8-2.07 0-2.86zM5.41 20L4 18.59l7.72-7.72 1.47 1.35L5.41 20z\"/>\n",
              "  </svg>\n",
              "      </button>\n",
              "      \n",
              "  <style>\n",
              "    .colab-df-container {\n",
              "      display:flex;\n",
              "      flex-wrap:wrap;\n",
              "      gap: 12px;\n",
              "    }\n",
              "\n",
              "    .colab-df-convert {\n",
              "      background-color: #E8F0FE;\n",
              "      border: none;\n",
              "      border-radius: 50%;\n",
              "      cursor: pointer;\n",
              "      display: none;\n",
              "      fill: #1967D2;\n",
              "      height: 32px;\n",
              "      padding: 0 0 0 0;\n",
              "      width: 32px;\n",
              "    }\n",
              "\n",
              "    .colab-df-convert:hover {\n",
              "      background-color: #E2EBFA;\n",
              "      box-shadow: 0px 1px 2px rgba(60, 64, 67, 0.3), 0px 1px 3px 1px rgba(60, 64, 67, 0.15);\n",
              "      fill: #174EA6;\n",
              "    }\n",
              "\n",
              "    [theme=dark] .colab-df-convert {\n",
              "      background-color: #3B4455;\n",
              "      fill: #D2E3FC;\n",
              "    }\n",
              "\n",
              "    [theme=dark] .colab-df-convert:hover {\n",
              "      background-color: #434B5C;\n",
              "      box-shadow: 0px 1px 3px 1px rgba(0, 0, 0, 0.15);\n",
              "      filter: drop-shadow(0px 1px 2px rgba(0, 0, 0, 0.3));\n",
              "      fill: #FFFFFF;\n",
              "    }\n",
              "  </style>\n",
              "\n",
              "      <script>\n",
              "        const buttonEl =\n",
              "          document.querySelector('#df-cae55b99-d2ee-427d-8362-a58edee49b1e button.colab-df-convert');\n",
              "        buttonEl.style.display =\n",
              "          google.colab.kernel.accessAllowed ? 'block' : 'none';\n",
              "\n",
              "        async function convertToInteractive(key) {\n",
              "          const element = document.querySelector('#df-cae55b99-d2ee-427d-8362-a58edee49b1e');\n",
              "          const dataTable =\n",
              "            await google.colab.kernel.invokeFunction('convertToInteractive',\n",
              "                                                     [key], {});\n",
              "          if (!dataTable) return;\n",
              "\n",
              "          const docLinkHtml = 'Like what you see? Visit the ' +\n",
              "            '<a target=\"_blank\" href=https://colab.research.google.com/notebooks/data_table.ipynb>data table notebook</a>'\n",
              "            + ' to learn more about interactive tables.';\n",
              "          element.innerHTML = '';\n",
              "          dataTable['output_type'] = 'display_data';\n",
              "          await google.colab.output.renderOutput(dataTable, element);\n",
              "          const docLink = document.createElement('div');\n",
              "          docLink.innerHTML = docLinkHtml;\n",
              "          element.appendChild(docLink);\n",
              "        }\n",
              "      </script>\n",
              "    </div>\n",
              "  </div>\n",
              "  "
            ]
          },
          "metadata": {},
          "execution_count": 74
        }
      ],
      "source": [
        "from google.colab import files\n",
        "uploaded = files.upload()\n",
        "\n",
        "import io\n",
        "data = pd.read_csv(io.BytesIO(uploaded['physics_data.csv']))\n",
        "data.head()"
      ]
    },
    {
      "cell_type": "code",
      "source": [
        "data['Eat']\n",
        "np.unique(data[\"Eat\"])"
      ],
      "metadata": {
        "colab": {
          "base_uri": "https://localhost:8080/"
        },
        "id": "tPYbyAuI4Q0z",
        "outputId": "bea5f7f9-2f1b-4c0e-f4a4-c596b91e9607"
      },
      "execution_count": null,
      "outputs": [
        {
          "output_type": "execute_result",
          "data": {
            "text/plain": [
              "array([-23.21457916, -21.67299767, -20.9553348 , -20.87466779,\n",
              "       -20.62965684, -20.54759479, -20.06643729, -19.68378846,\n",
              "       -19.66293225, -19.47191476, -19.39587986, -19.08907365,\n",
              "       -19.01376253, -18.97708754, -18.95791957, -18.94194041,\n",
              "       -18.5153506 , -18.29701428, -18.26700281, -18.12957342,\n",
              "       -18.1250959 , -17.74820386, -17.68119389, -17.59487501,\n",
              "       -17.58204834, -17.51524495, -17.42771873, -17.38992872,\n",
              "       -17.37847681, -17.29075399, -17.28081858, -17.13411764,\n",
              "       -17.10930221, -17.07090243, -16.9715966 , -16.95703309,\n",
              "       -16.92692578, -16.87890679, -16.83724437, -16.82147764,\n",
              "       -16.70152039, -16.60914184, -16.49543173, -16.36732036,\n",
              "       -16.24501649, -16.2098749 , -16.16960404, -16.11250667,\n",
              "       -16.10268605, -16.09131795, -16.04543438, -15.95245724,\n",
              "       -15.91056175, -15.67373738, -15.64474077, -15.63233447,\n",
              "       -15.61388098, -15.55451087, -15.5218703 , -15.48048483,\n",
              "       -15.43088982, -15.32858632, -15.31722657, -15.20623326,\n",
              "       -15.20382212, -15.19110711, -15.18516115, -15.1722448 ,\n",
              "       -15.10609756, -15.08669018, -15.04577974, -14.97654032,\n",
              "       -14.92259337, -14.87759776, -14.76234863, -14.74002035,\n",
              "       -14.65092028, -14.63573641, -14.58938995, -14.57424761,\n",
              "       -14.56862406, -14.45802278, -14.39966153, -14.36687328,\n",
              "       -14.3465802 , -14.33398163, -14.32183126, -14.29990261,\n",
              "       -14.27644024, -14.26024664, -14.23565942, -14.22881514,\n",
              "       -14.22836634, -14.22261821, -14.21498863, -14.2133001 ,\n",
              "       -14.1781282 , -14.17249641, -14.1705377 , -14.1493762 ,\n",
              "       -14.09954668, -14.09547272, -14.09428239, -14.04585887,\n",
              "       -13.99521646, -13.93458069, -13.88435701, -13.8778585 ,\n",
              "       -13.86884011, -13.84593043, -13.8343316 , -13.83287448,\n",
              "       -13.77643799, -13.74253512, -13.73178578, -13.72922158,\n",
              "       -13.70576008, -13.6960464 , -13.67055242, -13.64469541,\n",
              "       -13.64230316, -13.61317221, -13.59700637, -13.50598777,\n",
              "       -13.47482646, -13.43337846, -13.42244095, -13.41847847,\n",
              "       -13.39993067, -13.38623057, -13.33207949, -13.25249335,\n",
              "       -13.20138839, -13.20054664, -13.18884393, -13.16417309,\n",
              "       -13.14111111, -13.11332847, -13.09349819, -13.07855672,\n",
              "       -13.05986326, -13.05609515, -13.04586326, -13.03226003,\n",
              "       -13.02851524, -13.02744357, -13.01079618, -13.0089127 ,\n",
              "       -12.99383823, -12.93539381, -12.90243271, -12.85878634,\n",
              "       -12.84794544, -12.79634882, -12.79561497, -12.7919964 ,\n",
              "       -12.7637031 , -12.73158773, -12.70071161, -12.64604169,\n",
              "       -12.64085747, -12.59781703, -12.59354228, -12.58738864,\n",
              "       -12.58042865, -12.57900632, -12.57399471, -12.54193259,\n",
              "       -12.52136923, -12.50063953, -12.4540656 , -12.44545315,\n",
              "       -12.44227513, -12.43015485, -12.4007097 , -12.37075207,\n",
              "       -12.36950917, -12.35448454, -12.26088725, -12.2443254 ,\n",
              "       -12.24098303, -12.22327092, -12.22288498, -12.21697853,\n",
              "       -12.20737159, -12.19545253, -12.19283991, -12.18759271,\n",
              "       -12.11688568, -12.102985  , -12.09951335, -12.06352031,\n",
              "       -12.01023973, -12.00869472, -11.97756228, -11.93832613,\n",
              "       -11.90852126, -11.90413139, -11.89879893, -11.89821397,\n",
              "       -11.89803282, -11.89348664, -11.88721451, -11.85458539,\n",
              "       -11.83522289, -11.83475928, -11.8292247 , -11.82740312,\n",
              "       -11.82163751, -11.80999695, -11.78170845, -11.74578401,\n",
              "       -11.7426184 , -11.69844864, -11.67038066, -11.64532093,\n",
              "       -11.64247769, -11.62458023, -11.58940231, -11.57753664,\n",
              "       -11.57196799, -11.55122222, -11.52008942, -11.5116556 ,\n",
              "       -11.45487843, -11.44830151, -11.44188364, -11.43798786,\n",
              "       -11.42783206, -11.42138015, -11.38732523, -11.38601701,\n",
              "       -11.33155801, -11.28906654, -11.27550307, -11.24805492,\n",
              "       -11.2463622 , -11.22119726, -11.21288054, -11.19745773,\n",
              "       -11.18721403, -11.17162217, -11.14648127, -11.11615045,\n",
              "       -11.11407313, -11.11066673, -11.09508215, -11.09219958,\n",
              "       -11.07687849, -11.00628167, -11.0062227 , -11.00404988,\n",
              "       -10.98518345, -10.92278545, -10.91401849, -10.88419762,\n",
              "       -10.87447516, -10.86677628, -10.86287455, -10.86187774,\n",
              "       -10.84928272, -10.84673719, -10.84376884, -10.84365565,\n",
              "       -10.80517544, -10.79006352, -10.76839443, -10.76754009,\n",
              "       -10.72214576, -10.68602543, -10.66306907, -10.64792239,\n",
              "       -10.61864085, -10.61725702, -10.60639661, -10.59496143,\n",
              "       -10.59244892, -10.56576385, -10.53173496, -10.52151283,\n",
              "       -10.5145375 , -10.51118879, -10.50726029, -10.50098634,\n",
              "       -10.46288202, -10.43609   , -10.43434101, -10.4278514 ,\n",
              "       -10.42572078, -10.41940991, -10.39273167, -10.3830226 ,\n",
              "       -10.36710928, -10.34119216, -10.30832888, -10.29246474,\n",
              "       -10.25310977, -10.22537644, -10.20943464, -10.20667965,\n",
              "       -10.18101698, -10.17376266, -10.17032699, -10.16835383,\n",
              "       -10.1674404 , -10.16101943, -10.15393169, -10.15324535,\n",
              "       -10.1515191 , -10.15120887, -10.12371004, -10.11063843,\n",
              "       -10.10905668, -10.09790328, -10.05381772, -10.05222808,\n",
              "       -10.04772981, -10.034629  , -10.03355187, -10.00527482,\n",
              "        -9.9200979 ,  -9.89598815,  -9.89255087,  -9.84788851,\n",
              "        -9.77689261,  -9.72944689,  -9.72487871,  -9.70347196,\n",
              "        -9.6999723 ,  -9.69985858,  -9.68879168,  -9.68377022,\n",
              "        -9.63465467,  -9.62719419,  -9.62543746,  -9.62507049,\n",
              "        -9.62317015,  -9.62269622,  -9.61805637,  -9.59843109,\n",
              "        -9.59344098,  -9.589857  ,  -9.58683488,  -9.58233564,\n",
              "        -9.57677854,  -9.57439187,  -9.48224572,  -9.44540409,\n",
              "        -9.43212762,  -9.42975917,  -9.41682555,  -9.40986105,\n",
              "        -9.40413839,  -9.38111348,  -9.37711594,  -9.37661923,\n",
              "        -9.34953993,  -9.29061879,  -9.28288885,  -9.27150574,\n",
              "        -9.26544523,  -9.22696508,  -9.22214809,  -9.19994224,\n",
              "        -9.17266333,  -9.17231253,  -9.16628554,  -9.14965005,\n",
              "        -9.14461405,  -9.13094562,  -9.10798942,  -9.063878  ,\n",
              "        -9.04404004,  -9.0381473 ,  -9.03569882,  -9.03115855,\n",
              "        -9.00976792,  -9.00625837,  -9.00551381,  -8.99263591,\n",
              "        -8.97474853,  -8.974186  ,  -8.9583531 ,  -8.93639397,\n",
              "        -8.92535418,  -8.91590332,  -8.89971653,  -8.85989726,\n",
              "        -8.78681847,  -8.76810712,  -8.74417829,  -8.71338584,\n",
              "        -8.70983875,  -8.6771822 ,  -8.66525439,  -8.63308461,\n",
              "        -8.62256361,  -8.61984733,  -8.61845666,  -8.61614929,\n",
              "        -8.57202859,  -8.55568148,  -8.53713999,  -8.49786718,\n",
              "        -8.49652935,  -8.49545902,  -8.48422716,  -8.48331921,\n",
              "        -8.48108004,  -8.46479697,  -8.4027024 ,  -8.38868126,\n",
              "        -8.38471778,  -8.37120216,  -8.3427771 ,  -8.32957197,\n",
              "        -8.29726868,  -8.29373293,  -8.27836029,  -8.25057458,\n",
              "        -8.19937003,  -8.17085729,  -8.16017014,  -8.11091264,\n",
              "        -8.10967563,  -8.09543177,  -8.02593199,  -7.98451718,\n",
              "        -7.88193009,  -7.88050165,  -7.85397644,  -7.79745827,\n",
              "        -7.79745394,  -7.79463352,  -7.78157721,  -7.71561538,\n",
              "        -7.70665798,  -7.63962956,  -7.61733033,  -7.53676473,\n",
              "        -7.462441  ,  -7.45568098,  -7.40333927,  -7.35583726,\n",
              "        -7.33648345,  -7.31192939,  -7.26807786,  -7.26412819,\n",
              "        -7.18349305,  -7.17745074,  -7.17720732,  -7.14820971,\n",
              "        -7.14119909,  -7.08322611,  -7.06738917,  -6.96393847,\n",
              "        -6.9544416 ,  -6.93018881,  -6.88450167,  -6.88193038,\n",
              "        -6.62430169,  -6.61711061,  -6.60857148,  -6.54872364,\n",
              "        -6.51659492,  -6.47499414,  -6.44815599,  -6.43962523,\n",
              "        -6.3478921 ,  -6.32202154,  -6.28290332,  -6.26763615,\n",
              "        -6.22266844,  -6.19189053,  -6.14210007,  -6.02787261,\n",
              "        -5.9710129 ,  -5.85609921,  -5.84072642,  -5.78170242,\n",
              "        -5.70572581,  -5.69348592,  -5.62848791,  -5.5570679 ,\n",
              "        -5.52809791,  -5.3832585 ,  -5.22648561,  -5.15147026,\n",
              "        -5.11697493,  -4.92924301,  -4.86902934,  -4.80707841,\n",
              "        -4.76076696,  -4.46628509,  -4.20815954,  -4.17580694,\n",
              "        -3.57993411,  -2.45976466,  -1.75500325,  -1.14022057])"
            ]
          },
          "metadata": {},
          "execution_count": 183
        }
      ]
    },
    {
      "cell_type": "code",
      "source": [
        "X , y = data.iloc[:, :-2].to_numpy(), data['Eat'].to_numpy()\n",
        "y_new = y.astype('int64')\n",
        "y_new"
      ],
      "metadata": {
        "colab": {
          "base_uri": "https://localhost:8080/"
        },
        "id": "ynX_IzMwijdw",
        "outputId": "7c556280-9a49-4aa8-ded1-249c3f5da0b0"
      },
      "execution_count": null,
      "outputs": [
        {
          "output_type": "execute_result",
          "data": {
            "text/plain": [
              "array([-19, -10,  -9, -13,  -8, -16, -17, -15, -10,  -8, -12, -14,  -8,\n",
              "       -13,  -8, -11, -10, -11, -11,  -8,  -8, -12, -10, -11, -11, -13,\n",
              "       -14, -11,  -9,  -9,  -9,  -9, -12, -11,  -5, -13, -12, -17,  -9,\n",
              "       -11, -16, -15, -12, -14, -11, -11, -12, -12, -15, -11,  -7, -11,\n",
              "       -16,  -9,  -9,  -7, -10,  -9, -12, -13,  -9, -14, -13, -11, -12,\n",
              "        -9,  -7, -14,  -2, -11, -14,  -5, -16,  -7, -12, -10, -21,  -6,\n",
              "        -8,  -8, -10,  -8,  -5, -17,  -7,  -9, -11, -11, -15, -15,  -9,\n",
              "        -8, -11, -10, -10, -10,  -6, -12,  -9, -10, -16,  -9,  -6, -11,\n",
              "        -8, -10, -11, -10,  -7, -10,  -9, -14, -10, -10, -10, -10, -13,\n",
              "       -13,  -5, -15, -12, -13, -12, -13,  -9, -10, -11, -14,  -5,  -6,\n",
              "       -16, -18, -14,  -5, -10, -13, -11,  -7, -12,  -4, -12, -14, -14,\n",
              "       -14, -14, -14, -14, -14, -12, -11,  -9, -13,  -8, -13, -13,  -7,\n",
              "        -9,  -7,  -8,  -9,  -6, -11,  -9,  -8,  -6, -11,  -8,  -5, -11,\n",
              "       -14,  -6, -10,  -6,  -9,  -5,  -8, -11, -20,  -8, -13, -10,  -6,\n",
              "        -9, -11, -14, -12, -14,  -8,  -8,  -8,  -9,  -7,  -9,  -7,  -9,\n",
              "       -14,  -9,  -6, -12, -12, -16,  -8,  -7, -15, -13,  -8,  -8, -11,\n",
              "       -14, -10, -10, -13, -13, -14, -10, -10,  -5, -19, -12,  -8,  -7,\n",
              "       -11, -10, -11, -12, -12, -14,  -6, -13, -12,  -9,  -9,  -9,  -6,\n",
              "        -7,  -9, -20, -15,  -8, -19, -10,  -9,  -6, -16, -12, -16, -19,\n",
              "       -10, -10, -13,  -7,  -8, -10,  -9, -12, -18, -19, -13,  -9, -10,\n",
              "       -13,  -7,  -9,  -8, -13, -15, -10, -13,  -4, -11, -11, -11, -10,\n",
              "       -10, -12, -11, -10, -11,  -7,  -7, -10, -16,  -9,  -7,  -8, -10,\n",
              "        -9,  -7, -18, -23, -13,  -7, -10, -11,  -9,  -6, -12,  -9, -16,\n",
              "       -12,  -9, -10, -13,  -9, -12, -10, -12,  -6,  -9, -10, -11, -11,\n",
              "       -13, -13, -14, -13,  -9, -11, -13, -13, -14, -17, -17, -10,  -5,\n",
              "       -13, -16,  -8, -12, -11, -10, -11, -10, -14,  -8, -10, -13, -15,\n",
              "       -13, -11, -17, -10, -15, -12, -16, -14, -17,  -9, -12, -12, -11,\n",
              "       -11, -11, -12, -11, -11, -20, -10, -12,  -1, -11, -11,  -7, -13,\n",
              "        -8, -18, -12,  -9,  -8, -10, -10,  -7,  -8,  -1,  -9, -11,  -4,\n",
              "        -8, -18, -10, -18,  -5, -10, -13, -20, -10, -14, -10,  -8,  -9,\n",
              "       -17,  -3, -10, -14,  -6, -10, -14,  -9, -10, -10, -12, -16, -16,\n",
              "        -8, -12, -13, -13,  -9,  -8,  -9,  -6, -10, -11, -14, -16, -11,\n",
              "        -8, -10,  -8,  -4,  -8, -11, -10, -11, -16, -15, -10, -15, -18,\n",
              "       -12, -12, -17, -13, -20, -17, -13,  -8, -10, -12, -17, -13, -12,\n",
              "       -17,  -9,  -8, -15, -13, -13,  -6,  -9, -11,  -7,  -7, -10, -19,\n",
              "        -4,  -8,  -8, -10, -11, -15, -15, -11, -18, -15,  -5,  -6,  -7,\n",
              "        -8,  -9,  -9, -10,  -6,  -6,  -9, -12,  -4,  -8,  -4, -12, -17,\n",
              "       -14,  -5, -10,  -7, -15,  -8, -13, -10, -12,  -9,  -8,  -7, -15,\n",
              "        -9,  -9, -11,  -9, -14, -15])"
            ]
          },
          "metadata": {},
          "execution_count": 216
        }
      ]
    },
    {
      "cell_type": "code",
      "source": [
        "X_train, X_test, y_train, y_test = train_test_split(X, y_new, test_size = 0.2, train_size=0.8 ,random_state=42)\n",
        "X_train, X_valid, y_train, y_valid = train_test_split(X_train, y_train, test_size = 0.25, random_state=42)"
      ],
      "metadata": {
        "id": "bJLcGqBRjZWh"
      },
      "execution_count": null,
      "outputs": []
    },
    {
      "cell_type": "markdown",
      "source": [],
      "metadata": {
        "id": "s8vKKwc1s2JA"
      }
    },
    {
      "cell_type": "markdown",
      "source": [],
      "metadata": {
        "id": "cBAjJOWVs2YD"
      }
    },
    {
      "cell_type": "markdown",
      "metadata": {
        "id": "zGpF2PFDHjHa"
      },
      "source": [
        "Обучите решающее дерево глубины 3 и визуализируйте его.\n",
        "\n",
        "*Рекомендуется сделать скриншот визуализации и прислать его в бот вместе с ноутбуком.*"
      ]
    },
    {
      "cell_type": "code",
      "execution_count": null,
      "metadata": {
        "colab": {
          "base_uri": "https://localhost:8080/",
          "height": 807
        },
        "id": "gWd1EjAwHjHa",
        "outputId": "f2c2e6e5-8e11-4780-ff99-024b24634b32"
      },
      "outputs": [
        {
          "output_type": "display_data",
          "data": {
            "text/plain": [
              "<Figure size 1500x1000 with 1 Axes>"
            ],
            "image/png": "[encoded data removed]"
          },
          "metadata": {}
        }
      ],
      "source": [
        "model = DecisionTreeClassifier(max_depth = 3)\n",
        "model.fit(X_train, y_train)\n",
        "plt.figure(figsize=(15, 10))\n",
        "tree.plot_tree(model)\n",
        "plt.show()"
      ]
    },
    {
      "cell_type": "markdown",
      "metadata": {
        "id": "nznHDGe_HjHa"
      },
      "source": [
        "Подберите оптимальное значение максимальной глубины дерева. Для этого обучите решающие деревья с выставленным значением соответствующего гиперпараметра и посчитайте ошибку предсказаний каждого из них на валидационной выборке. Постройте соответствующий график."
      ]
    },
    {
      "cell_type": "code",
      "execution_count": null,
      "metadata": {
        "id": "Ej-MoPeXHjHa"
      },
      "outputs": [],
      "source": [
        "max_depth_values = np.arange(20) + 1\n",
        "real_depth = []\n",
        "error = []\n",
        "for max_depth in max_depth_values:\n",
        "    model = DecisionTreeClassifier(max_depth = max_depth, random_state = 42).fit(X_train, y_train)\n",
        "    y_pred = model.predict(X_valid)\n",
        "    real_depth.append(model.get_depth())\n",
        "    error.append(mean_squared_error(y_valid, y_pred))"
      ]
    },
    {
      "cell_type": "code",
      "source": [
        "plt.figure(figsize = (18, 5))\n",
        "\n",
        "plt.plot(max_depth_values, error, 'o--')\n",
        "plt.xlim(1 - 0.1 , max(max_depth_values) + 0.1)\n",
        "\n",
        "plt.title(\"Зависимость среднеквадратичной ошибки от максимальной глубины дерева\")\n",
        "plt.xlabel(\"Глубина дерева\")\n",
        "plt.xticks(max_depth_values)\n",
        "plt.ylabel(\"MSE\");"
      ],
      "metadata": {
        "colab": {
          "base_uri": "https://localhost:8080/",
          "height": 482
        },
        "id": "5bNa9TM0ybsC",
        "outputId": "b6522c05-5e04-44b6-d2d2-4b5d38f0a7f8"
      },
      "execution_count": null,
      "outputs": [
        {
          "output_type": "display_data",
          "data": {
            "text/plain": [
              "<Figure size 1800x500 with 1 Axes>"
            ],
            "image/png": "[encoded data removed]"
          },
          "metadata": {}
        }
      ]
    },
    {
      "cell_type": "markdown",
      "metadata": {
        "id": "957r4LRgHjHa"
      },
      "source": [
        "Аналогичным образом подберите минимальное число объектов в листе, зафиксировав при этом подобранное значение максимальной глубины."
      ]
    },
    {
      "cell_type": "code",
      "execution_count": null,
      "metadata": {
        "id": "2iZHvJVzHjHa"
      },
      "outputs": [],
      "source": [
        "min_leaves_values = np.arange(100) + 1\n",
        "num_leaves = []\n",
        "error = []\n",
        "for leaves in min_leaves_values:\n",
        "      model = DecisionTreeClassifier(min_samples_leaf = leaves ,random_state = 42).fit(X_train, y_train)\n",
        "      y_pred = model.predict(X_valid)\n",
        "      num_leaves.append(model.get_depth())\n",
        "      error.append(mean_squared_error(y_pred, y_valid))"
      ]
    },
    {
      "cell_type": "markdown",
      "metadata": {
        "id": "RgUt5VbyHjHb"
      },
      "source": [
        "Визуализируйте дерево при оптимальных гиперпараметрах и посчитайте его ошибку на тестовой части выборки."
      ]
    },
    {
      "cell_type": "code",
      "execution_count": null,
      "metadata": {
        "colab": {
          "base_uri": "https://localhost:8080/",
          "height": 477
        },
        "id": "a_mzA-3LHjHb",
        "outputId": "778163f8-f180-4dca-97d9-5a51f817cea0"
      },
      "outputs": [
        {
          "output_type": "display_data",
          "data": {
            "text/plain": [
              "<Figure size 1800x500 with 1 Axes>"
            ],
            "image/png": "[encoded data removed]"
          },
          "metadata": {}
        }
      ],
      "source": [
        "plt.figure(figsize = (18, 5))\n",
        "\n",
        "plt.plot(min_leaves_values, error, 'o--')\n",
        "plt.xlim(1 - 0.1 , max(min_leaves_values) + 0.1)\n",
        "\n",
        "plt.title(\"Зависимость среднеквадратичной ошибки от кол-во листьев\")\n",
        "plt.xlabel(\"Кол-во листьев\")\n",
        "plt.xticks(min_leaves_values[::4])\n",
        "plt.ylabel(\"MSE\");"
      ]
    },
    {
      "cell_type": "markdown",
      "source": [
        "Возьмем минимальное кол-во листьев 4 и глубину 7\n"
      ],
      "metadata": {
        "id": "lmAVSTuR21qu"
      }
    },
    {
      "cell_type": "code",
      "source": [
        "model = DecisionTreeClassifier(min_samples_leaf = 4, max_depth = 7 ,random_state = 42).fit(X_train, y_train)\n",
        "y_pred = model.predict(X_test)\n",
        "accuracy_score(y_pred, y_test)"
      ],
      "metadata": {
        "colab": {
          "base_uri": "https://localhost:8080/"
        },
        "id": "77R1Cvov2072",
        "outputId": "0023b023-73ae-4b7f-b0c7-dcc5b879afcb"
      },
      "execution_count": null,
      "outputs": [
        {
          "output_type": "execute_result",
          "data": {
            "text/plain": [
              "0.31"
            ]
          },
          "metadata": {},
          "execution_count": 212
        }
      ]
    },
    {
      "cell_type": "markdown",
      "metadata": {
        "id": "tLzJzN6vHjHb"
      },
      "source": [
        "Решающее дерево позволяет оценить *важность признаков* &mdash; некоторая величина, зависящая от того\n",
        "* насколько часто тот или иной признак использовался при разбиении листа,\n",
        "* и насколько сильно при этом изменился критерий информативности.\n",
        "\n",
        "У обученной модели значения важности признаков лежат в поле `feature_importances_`. Визуализируйте их с помощью `seaborn.barplot`."
      ]
    },
    {
      "cell_type": "code",
      "execution_count": null,
      "metadata": {
        "colab": {
          "base_uri": "https://localhost:8080/",
          "height": 408
        },
        "id": "LevE3zx2HjHb",
        "outputId": "95d3d66c-4d81-4008-f69c-3c9ba7536ede"
      },
      "outputs": [
        {
          "output_type": "execute_result",
          "data": {
            "text/plain": [
              "<Axes: >"
            ]
          },
          "metadata": {},
          "execution_count": 239
        },
        {
          "output_type": "display_data",
          "data": {
            "text/plain": [
              "<Figure size 2000x500 with 1 Axes>"
            ],
            "image/png": "[encoded data removed]"
          },
          "metadata": {}
        }
      ],
      "source": [
        "features = model.feature_importances_\n",
        "features[features != 0]\n",
        "X = data.iloc[1:, :-2].columns\n",
        "plt.figure(figsize = (20, 5))\n",
        "sns.barplot(y = features, x = X)\n"
      ]
    },
    {
      "cell_type": "markdown",
      "metadata": {
        "id": "HRv5cubCHjHb"
      },
      "source": [
        "Сделайте выводы."
      ]
    },
    {
      "cell_type": "markdown",
      "metadata": {
        "id": "fbWwpVt2HjHb"
      },
      "source": [
        "**Вывод:** Знаю, что по оси x ничего не видно, ноу меня  не осталось времени, поэтому по индексу в массиве в features можно найти признаки, которые больше всего повлияли\n"
      ]
    },
    {
      "cell_type": "markdown",
      "metadata": {
        "id": "VMo5NbyRHjHb"
      },
      "source": [
        "## Задача 4\n",
        "\n",
        "Для данных из задачи 3 обучите случайный лес на 500 деревьев."
      ]
    },
    {
      "cell_type": "code",
      "execution_count": null,
      "metadata": {
        "id": "SOoRE6CYHjHb"
      },
      "outputs": [],
      "source": []
    },
    {
      "cell_type": "markdown",
      "metadata": {
        "id": "5picPUoeHjHc"
      },
      "source": [
        "Постройте график зависимости ошибки модели в зависимости от количества деревьев для обучающей и валидационной выборок.\n",
        "\n",
        "*Замечание.* Не нужно заново обучать лес каждый раз. Используйте у *обученной* модели поле `estimators_`, это список из объектов класса `DecisionTreeRegressor`. Обратите внимание, что это приватное поле объекта, и менять его очень плохо, за такое баллы будут снижаться."
      ]
    },
    {
      "cell_type": "code",
      "execution_count": null,
      "metadata": {
        "id": "Lco3NgSEHjHc"
      },
      "outputs": [],
      "source": []
    },
    {
      "cell_type": "markdown",
      "metadata": {
        "id": "vxTCzniCHjHc"
      },
      "source": [
        "Для леса с максимальным количеством деревьев визуализируйте\n",
        "важность признаков, используя поле `feature_importances_`."
      ]
    },
    {
      "cell_type": "code",
      "execution_count": null,
      "metadata": {
        "id": "NvK0dKD8HjHc"
      },
      "outputs": [],
      "source": []
    },
    {
      "cell_type": "markdown",
      "metadata": {
        "id": "OHmXB3TAHjHc"
      },
      "source": [
        "Сделайте выводы."
      ]
    },
    {
      "cell_type": "markdown",
      "metadata": {
        "id": "2tAahO6PHjHc"
      },
      "source": [
        "**Вывод:** <...>"
      ]
    }
  ],
  "metadata": {
    "language_info": {
      "name": "python"
    },
    "orig_nbformat": 4,
    "colab": {
      "provenance": []
    },
    "kernelspec": {
      "name": "python3",
      "display_name": "Python 3"
    },
    "gpuClass": "standard"
  },
  "nbformat": 4,
  "nbformat_minor": 0
}